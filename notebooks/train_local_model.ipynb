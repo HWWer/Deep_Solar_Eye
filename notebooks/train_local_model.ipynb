{
 "cells": [
  {
   "cell_type": "markdown",
   "metadata": {},
   "source": [
    "## Imports"
   ]
  },
  {
   "cell_type": "code",
   "execution_count": 5,
   "metadata": {},
   "outputs": [
    {
     "name": "stdout",
     "output_type": "stream",
     "text": [
      "The autoreload extension is already loaded. To reload it, use:\n",
      "  %reload_ext autoreload\n"
     ]
    }
   ],
   "source": [
    "%load_ext autoreload\n",
    "%autoreload 2"
   ]
  },
  {
   "cell_type": "code",
   "execution_count": 6,
   "metadata": {},
   "outputs": [
    {
     "name": "stdout",
     "output_type": "stream",
     "text": [
      "['/Users/peterbitman/Desktop/Deep_Solar_Eye/notebooks', '/Users/peterbitman/code/pemabi/04-Decision-Science/01-Project-Setup/data-context-and-setup', '/Users/peterbitman/Desktop/Deep_Solar_Eye/notebooks', '/Users/peterbitman/.pyenv/versions/3.10.6/lib/python310.zip', '/Users/peterbitman/.pyenv/versions/3.10.6/lib/python3.10', '/Users/peterbitman/.pyenv/versions/3.10.6/lib/python3.10/lib-dynload', '', '/Users/peterbitman/.pyenv/versions/3.10.6/envs/Deep_Solar_Eye/lib/python3.10/site-packages', '..', '..']\n"
     ]
    }
   ],
   "source": [
    "import sys\n",
    "sys.path.append('..')\n",
    "print(sys.path)\n",
    "import os\n",
    "from DeepSolarEye.handling.split_data import train_test_val_split\n",
    "from DeepSolarEye.handling.load_tensor import get_numerical_data, load_and_process_image, load_tensor\n",
    "from tensorflow.keras.callbacks import EarlyStopping, ReduceLROnPlateau, ModelCheckpoint\n",
    "from DeepSolarEye.dl_logic.model import regression_ResNet\n",
    "from tensorflow.keras.optimizers.legacy import Adam\n",
    "import matplotlib.pyplot as plt\n",
    "from sklearn import metrics\n",
    "import numpy as np"
   ]
  },
  {
   "cell_type": "markdown",
   "metadata": {},
   "source": [
    "## Data Loading and Preprocessing"
   ]
  },
  {
   "cell_type": "markdown",
   "metadata": {},
   "source": [
    "__Split Data:__\\\n",
    "Splits raw data into three new directories (train_data, test_data. va;_data), to the specified ratios. Ratios are relative to the total number of images in raw data (can be less than 1 to limit amount of data introduced to model)"
   ]
  },
  {
   "cell_type": "code",
   "execution_count": 7,
   "metadata": {},
   "outputs": [
    {
     "name": "stderr",
     "output_type": "stream",
     "text": [
      "3it [00:01,  1.69it/s]"
     ]
    },
    {
     "name": "stdout",
     "output_type": "stream",
     "text": [
      "train size: 915\n",
      "test_size: 320\n",
      "val_size: 228\n"
     ]
    },
    {
     "name": "stderr",
     "output_type": "stream",
     "text": [
      "\n"
     ]
    }
   ],
   "source": [
    "train_test_val_split(train_ratio=0.02, test_ratio=0.007, val_ratio=0.005)"
   ]
  },
  {
   "cell_type": "markdown",
   "metadata": {},
   "source": [
    "Load and Preprocess Numerical Data"
   ]
  },
  {
   "cell_type": "code",
   "execution_count": 8,
   "metadata": {},
   "outputs": [],
   "source": [
    "path_test = \"test_data\"\n",
    "path_train = \"train_data\"\n",
    "path_val = \"val_data\"\n",
    "\n",
    "df_test = get_numerical_data(path_test)\n",
    "df_train = get_numerical_data(path_train)\n",
    "df_val = get_numerical_data(path_val)"
   ]
  },
  {
   "cell_type": "markdown",
   "metadata": {},
   "source": [
    "Batch and Preprocess Images"
   ]
  },
  {
   "cell_type": "code",
   "execution_count": 9,
   "metadata": {},
   "outputs": [],
   "source": [
    "train_ds, batch_size = load_tensor(df_train, 16, path_train)\n",
    "test_ds, batch_size = load_tensor(df_test, 16, path_test)\n",
    "val_ds, batch_size = load_tensor(df_val, 16, path_val)"
   ]
  },
  {
   "cell_type": "markdown",
   "metadata": {},
   "source": [
    "## Define Model"
   ]
  },
  {
   "cell_type": "code",
   "execution_count": 10,
   "metadata": {},
   "outputs": [],
   "source": [
    "model = regression_ResNet(model_name='ResNet50', input_shape=(224, 224, 3),input_time_irradiance=(2,), num_units=512, pretrained=True)\n",
    "model.compile(optimizer='adam', loss='mean_squared_error', metrics=['mae'])"
   ]
  },
  {
   "cell_type": "markdown",
   "metadata": {},
   "source": [
    "Define learning rate, optimizer, early stopping and RLR"
   ]
  },
  {
   "cell_type": "code",
   "execution_count": 11,
   "metadata": {},
   "outputs": [],
   "source": [
    "initial_learning_rate = 0.01\n",
    "\n",
    "optimizer = Adam(learning_rate=initial_learning_rate)\n",
    "\n",
    "early_stopping = EarlyStopping(\n",
    "    monitor='val_loss',\n",
    "    patience=6,\n",
    "    verbose=1,\n",
    "    restore_best_weights=True\n",
    ")\n",
    "\n",
    "reduce_lr = ReduceLROnPlateau(monitor='val_loss',\n",
    "                              factor=0.2,\n",
    "                              patience=4\n",
    "                              )\n",
    "\n",
    "# Define the filepath for saving the model weights\n",
    "checkpoint_filepath = '../DeepSolarEye/model_weights/first_model.h5'\n",
    "\n",
    "# Define the ModelCheckpoint callback\n",
    "model_checkpoint_callback = ModelCheckpoint(\n",
    "    filepath=checkpoint_filepath,\n",
    "    monitor='val_loss',\n",
    "    mode='min',\n",
    "    save_best_only=True,\n",
    "    save_weights_only=True,\n",
    "    verbose=1\n",
    ")\n"
   ]
  },
  {
   "cell_type": "markdown",
   "metadata": {},
   "source": [
    "Fit Model"
   ]
  },
  {
   "cell_type": "code",
   "execution_count": 12,
   "metadata": {},
   "outputs": [
    {
     "name": "stdout",
     "output_type": "stream",
     "text": [
      "Epoch 1/500\n",
      "58/58 [==============================] - ETA: 0s - loss: 1.1271 - mae: 0.5855\n",
      "Epoch 1: val_loss improved from inf to 1.15683, saving model to ../DeepSolarEye/model_weights/first_model.h5\n",
      "58/58 [==============================] - 46s 773ms/step - loss: 1.1271 - mae: 0.5855 - val_loss: 1.1568 - val_mae: 0.9948 - lr: 0.0010\n",
      "Epoch 2/500\n",
      "58/58 [==============================] - ETA: 0s - loss: 0.7925 - mae: 0.7470\n",
      "Epoch 2: val_loss improved from 1.15683 to 0.43951, saving model to ../DeepSolarEye/model_weights/first_model.h5\n",
      "58/58 [==============================] - 42s 731ms/step - loss: 0.7925 - mae: 0.7470 - val_loss: 0.4395 - val_mae: 0.5731 - lr: 0.0010\n",
      "Epoch 3/500\n",
      "58/58 [==============================] - ETA: 0s - loss: 0.2345 - mae: 0.3881\n",
      "Epoch 3: val_loss improved from 0.43951 to 0.24025, saving model to ../DeepSolarEye/model_weights/first_model.h5\n",
      "58/58 [==============================] - 44s 759ms/step - loss: 0.2345 - mae: 0.3881 - val_loss: 0.2402 - val_mae: 0.4334 - lr: 0.0010\n",
      "Epoch 4/500\n",
      "58/58 [==============================] - ETA: 0s - loss: 0.1274 - mae: 0.2887\n",
      "Epoch 4: val_loss improved from 0.24025 to 0.11157, saving model to ../DeepSolarEye/model_weights/first_model.h5\n",
      "58/58 [==============================] - 42s 722ms/step - loss: 0.1274 - mae: 0.2887 - val_loss: 0.1116 - val_mae: 0.2920 - lr: 0.0010\n",
      "Epoch 5/500\n",
      "58/58 [==============================] - ETA: 0s - loss: 0.1642 - mae: 0.3316\n",
      "Epoch 5: val_loss did not improve from 0.11157\n",
      "58/58 [==============================] - 42s 732ms/step - loss: 0.1642 - mae: 0.3316 - val_loss: 0.1174 - val_mae: 0.2879 - lr: 0.0010\n",
      "Epoch 6/500\n",
      "58/58 [==============================] - ETA: 0s - loss: 0.1804 - mae: 0.3334\n",
      "Epoch 6: val_loss did not improve from 0.11157\n",
      "58/58 [==============================] - 44s 765ms/step - loss: 0.1804 - mae: 0.3334 - val_loss: 0.1643 - val_mae: 0.3101 - lr: 0.0010\n",
      "Epoch 7/500\n",
      "58/58 [==============================] - ETA: 0s - loss: 0.1297 - mae: 0.2946\n",
      "Epoch 7: val_loss did not improve from 0.11157\n",
      "58/58 [==============================] - 42s 731ms/step - loss: 0.1297 - mae: 0.2946 - val_loss: 0.3416 - val_mae: 0.5017 - lr: 0.0010\n",
      "Epoch 8/500\n",
      "58/58 [==============================] - ETA: 0s - loss: 0.1209 - mae: 0.2854\n",
      "Epoch 8: val_loss did not improve from 0.11157\n",
      "58/58 [==============================] - 41s 702ms/step - loss: 0.1209 - mae: 0.2854 - val_loss: 0.1392 - val_mae: 0.2794 - lr: 0.0010\n",
      "Epoch 9/500\n",
      "58/58 [==============================] - ETA: 0s - loss: 0.1162 - mae: 0.2751\n",
      "Epoch 9: val_loss improved from 0.11157 to 0.08133, saving model to ../DeepSolarEye/model_weights/first_model.h5\n",
      "58/58 [==============================] - 40s 688ms/step - loss: 0.1162 - mae: 0.2751 - val_loss: 0.0813 - val_mae: 0.2261 - lr: 2.0000e-04\n",
      "Epoch 10/500\n",
      "58/58 [==============================] - ETA: 0s - loss: 0.1024 - mae: 0.2644\n",
      "Epoch 10: val_loss improved from 0.08133 to 0.07619, saving model to ../DeepSolarEye/model_weights/first_model.h5\n",
      "58/58 [==============================] - 40s 690ms/step - loss: 0.1024 - mae: 0.2644 - val_loss: 0.0762 - val_mae: 0.2301 - lr: 2.0000e-04\n",
      "Epoch 11/500\n",
      "58/58 [==============================] - ETA: 0s - loss: 0.0890 - mae: 0.2499\n",
      "Epoch 11: val_loss improved from 0.07619 to 0.07535, saving model to ../DeepSolarEye/model_weights/first_model.h5\n",
      "58/58 [==============================] - 42s 733ms/step - loss: 0.0890 - mae: 0.2499 - val_loss: 0.0754 - val_mae: 0.2327 - lr: 2.0000e-04\n",
      "Epoch 12/500\n",
      "58/58 [==============================] - ETA: 0s - loss: 0.0849 - mae: 0.2456\n",
      "Epoch 12: val_loss improved from 0.07535 to 0.07531, saving model to ../DeepSolarEye/model_weights/first_model.h5\n",
      "58/58 [==============================] - 44s 758ms/step - loss: 0.0849 - mae: 0.2456 - val_loss: 0.0753 - val_mae: 0.2351 - lr: 2.0000e-04\n",
      "Epoch 13/500\n",
      "58/58 [==============================] - ETA: 0s - loss: 0.0826 - mae: 0.2424\n",
      "Epoch 13: val_loss did not improve from 0.07531\n",
      "58/58 [==============================] - 43s 740ms/step - loss: 0.0826 - mae: 0.2424 - val_loss: 0.0755 - val_mae: 0.2355 - lr: 2.0000e-04\n",
      "Epoch 14/500\n",
      "58/58 [==============================] - ETA: 0s - loss: 0.0808 - mae: 0.2399\n",
      "Epoch 14: val_loss did not improve from 0.07531\n",
      "58/58 [==============================] - 42s 720ms/step - loss: 0.0808 - mae: 0.2399 - val_loss: 0.0759 - val_mae: 0.2371 - lr: 2.0000e-04\n",
      "Epoch 15/500\n",
      "58/58 [==============================] - ETA: 0s - loss: 0.0795 - mae: 0.2382\n",
      "Epoch 15: val_loss did not improve from 0.07531\n",
      "58/58 [==============================] - 41s 715ms/step - loss: 0.0795 - mae: 0.2382 - val_loss: 0.0764 - val_mae: 0.2383 - lr: 2.0000e-04\n",
      "Epoch 16/500\n",
      "58/58 [==============================] - ETA: 0s - loss: 0.0783 - mae: 0.2369\n",
      "Epoch 16: val_loss did not improve from 0.07531\n",
      "58/58 [==============================] - 42s 716ms/step - loss: 0.0783 - mae: 0.2369 - val_loss: 0.0768 - val_mae: 0.2408 - lr: 4.0000e-05\n",
      "Epoch 17/500\n",
      "58/58 [==============================] - ETA: 0s - loss: 0.0776 - mae: 0.2378\n",
      "Epoch 17: val_loss did not improve from 0.07531\n",
      "58/58 [==============================] - 43s 736ms/step - loss: 0.0776 - mae: 0.2378 - val_loss: 0.0770 - val_mae: 0.2420 - lr: 4.0000e-05\n",
      "Epoch 18/500\n",
      "58/58 [==============================] - ETA: 0s - loss: 0.0774 - mae: 0.2377Restoring model weights from the end of the best epoch: 12.\n",
      "\n",
      "Epoch 18: val_loss did not improve from 0.07531\n",
      "58/58 [==============================] - 41s 705ms/step - loss: 0.0774 - mae: 0.2377 - val_loss: 0.0772 - val_mae: 0.2425 - lr: 4.0000e-05\n",
      "Epoch 18: early stopping\n"
     ]
    }
   ],
   "source": [
    "history = model.fit(train_ds,\n",
    "            epochs=500,\n",
    "            batch_size=batch_size,\n",
    "            validation_data=val_ds,\n",
    "            callbacks=[early_stopping, reduce_lr, model_checkpoint_callback],\n",
    "           )"
   ]
  },
  {
   "cell_type": "markdown",
   "metadata": {},
   "source": [
    "## Evaluation and Test\n",
    "Evaluate Model Performance"
   ]
  },
  {
   "cell_type": "code",
   "execution_count": 13,
   "metadata": {},
   "outputs": [
    {
     "data": {
      "image/png": "[encoded data removed]",
      "text/plain": [
       "<Figure size 1000x500 with 2 Axes>"
      ]
     },
     "metadata": {},
     "output_type": "display_data"
    }
   ],
   "source": [
    "# Extracting metrics from history\n",
    "mse = history.history['loss']\n",
    "mae = history.history['mae']\n",
    "\n",
    "# Plotting\n",
    "epochs = range(1, len(mse) + 1)\n",
    "plt.figure(figsize=(10, 5))\n",
    "\n",
    "# Plot MSE\n",
    "plt.subplot(1, 2, 1)\n",
    "plt.plot(epochs, mse, 'b', label='Loss (MSE)')\n",
    "plt.title('Mean Squared Error')\n",
    "plt.xlabel('Epochs')\n",
    "plt.ylabel('MSE')\n",
    "plt.legend()\n",
    "\n",
    "# Plot MSE\n",
    "plt.subplot(1, 2, 2)\n",
    "plt.plot(epochs, mae, 'b', label='MAE')\n",
    "plt.title('Mean Average Error')\n",
    "plt.xlabel('Epochs')\n",
    "plt.ylabel('MAE')\n",
    "plt.legend()\n",
    "\n",
    "plt.tight_layout()\n",
    "plt.show()"
   ]
  },
  {
   "cell_type": "markdown",
   "metadata": {},
   "source": [
    "Extracting test values from dataset"
   ]
  },
  {
   "cell_type": "code",
   "execution_count": 18,
   "metadata": {},
   "outputs": [
    {
     "data": {
      "text/html": [
       "<div>\n",
       "<style scoped>\n",
       "    .dataframe tbody tr th:only-of-type {\n",
       "        vertical-align: middle;\n",
       "    }\n",
       "\n",
       "    .dataframe tbody tr th {\n",
       "        vertical-align: top;\n",
       "    }\n",
       "\n",
       "    .dataframe thead th {\n",
       "        text-align: right;\n",
       "    }\n",
       "</style>\n",
       "<table border=\"1\" class=\"dataframe\">\n",
       "  <thead>\n",
       "    <tr style=\"text-align: right;\">\n",
       "      <th></th>\n",
       "      <th>Seconds of Day</th>\n",
       "      <th>Percentage Loss</th>\n",
       "      <th>Irradiance Level</th>\n",
       "    </tr>\n",
       "  </thead>\n",
       "  <tbody>\n",
       "    <tr>\n",
       "      <th>0</th>\n",
       "      <td>0.203803</td>\n",
       "      <td>0.025505</td>\n",
       "      <td>0.249158</td>\n",
       "    </tr>\n",
       "    <tr>\n",
       "      <th>1</th>\n",
       "      <td>0.937516</td>\n",
       "      <td>0.691072</td>\n",
       "      <td>0.117033</td>\n",
       "    </tr>\n",
       "    <tr>\n",
       "      <th>2</th>\n",
       "      <td>0.468361</td>\n",
       "      <td>0.645651</td>\n",
       "      <td>0.586244</td>\n",
       "    </tr>\n",
       "    <tr>\n",
       "      <th>3</th>\n",
       "      <td>0.896101</td>\n",
       "      <td>0.395413</td>\n",
       "      <td>0.140964</td>\n",
       "    </tr>\n",
       "    <tr>\n",
       "      <th>4</th>\n",
       "      <td>0.456822</td>\n",
       "      <td>0.032137</td>\n",
       "      <td>0.767104</td>\n",
       "    </tr>\n",
       "  </tbody>\n",
       "</table>\n",
       "</div>"
      ],
      "text/plain": [
       "   Seconds of Day  Percentage Loss  Irradiance Level\n",
       "0        0.203803         0.025505          0.249158\n",
       "1        0.937516         0.691072          0.117033\n",
       "2        0.468361         0.645651          0.586244\n",
       "3        0.896101         0.395413          0.140964\n",
       "4        0.456822         0.032137          0.767104"
      ]
     },
     "execution_count": 18,
     "metadata": {},
     "output_type": "execute_result"
    }
   ],
   "source": [
    "df_test.head()"
   ]
  },
  {
   "cell_type": "code",
   "execution_count": 23,
   "metadata": {},
   "outputs": [],
   "source": [
    "# Initialize an empty list to store values from the specific column\n",
    "y_test = []\n",
    "\n",
    "# Iterate over the dataset and collect values from the specific column\n",
    "for _, label_batch in test_ds:\n",
    "    y_test.extend(label_batch.numpy())\n",
    "\n",
    "# assert that test targets are equal to dataset targets\n",
    "assert y_test == df_test['Percentage Loss'].values.tolist()"
   ]
  },
  {
   "cell_type": "markdown",
   "metadata": {},
   "source": [
    "Make and evaluate predictions on test set"
   ]
  },
  {
   "cell_type": "code",
   "execution_count": 24,
   "metadata": {},
   "outputs": [
    {
     "name": "stdout",
     "output_type": "stream",
     "text": [
      "20/20 [==============================] - 13s 587ms/step\n"
     ]
    }
   ],
   "source": [
    "# Make predictions on new data\n",
    "y_pred = model.predict(test_ds)\n",
    "assert len(y_test) == len(y_pred)"
   ]
  },
  {
   "cell_type": "code",
   "execution_count": 25,
   "metadata": {},
   "outputs": [
    {
     "name": "stdout",
     "output_type": "stream",
     "text": [
      "Mean Absolute Error: 0.23808253\n",
      "Mean Squared Error: 0.07662002\n",
      "Root Mean Squared Error: 0.27680323\n",
      "R-squared: -0.04641523541524162\n"
     ]
    }
   ],
   "source": [
    "# evaluate predictions\n",
    "mae = metrics.mean_absolute_error(y_test, y_pred)\n",
    "mse = metrics.mean_squared_error(y_test, y_pred)\n",
    "rmse = np.sqrt(mse)\n",
    "r2_score = metrics.r2_score(y_test, y_pred)\n",
    "\n",
    "print(\"Mean Absolute Error:\", mae)\n",
    "print(\"Mean Squared Error:\", mse)\n",
    "print(\"Root Mean Squared Error:\", rmse)\n",
    "print(\"R-squared:\", r2_score)"
   ]
  }
 ],
 "metadata": {
  "kernelspec": {
   "display_name": "Deep_Solar_Eye",
   "language": "python",
   "name": "python3"
  },
  "language_info": {
   "codemirror_mode": {
    "name": "ipython",
    "version": 3
   },
   "file_extension": ".py",
   "mimetype": "text/x-python",
   "name": "python",
   "nbconvert_exporter": "python",
   "pygments_lexer": "ipython3",
   "version": "3.10.6"
  }
 },
 "nbformat": 4,
 "nbformat_minor": 2
}
