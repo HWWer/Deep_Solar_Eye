{
 "cells": [
  {
   "cell_type": "code",
   "execution_count": 1,
   "metadata": {},
   "outputs": [],
   "source": [
    "%load_ext autoreload\n",
    "%autoreload 2"
   ]
  },
  {
   "cell_type": "code",
   "execution_count": 2,
   "metadata": {},
   "outputs": [
    {
     "name": "stdout",
     "output_type": "stream",
     "text": [
      "['/Users/peterbitman/Desktop/Deep_Solar_Eye/notebooks', '/Users/peterbitman/code/pemabi/04-Decision-Science/01-Project-Setup/data-context-and-setup', '/Users/peterbitman/Desktop/Deep_Solar_Eye/notebooks', '/Users/peterbitman/.pyenv/versions/3.10.6/lib/python310.zip', '/Users/peterbitman/.pyenv/versions/3.10.6/lib/python3.10', '/Users/peterbitman/.pyenv/versions/3.10.6/lib/python3.10/lib-dynload', '', '/Users/peterbitman/.pyenv/versions/3.10.6/envs/Deep_Solar_Eye/lib/python3.10/site-packages', '..']\n"
     ]
    }
   ],
   "source": [
    "import sys\n",
    "sys.path.append('..')\n",
    "print(sys.path)\n",
    "\n",
    "from DeepSolarEye.handling.split_data import train_test_val_split"
   ]
  },
  {
   "cell_type": "code",
   "execution_count": 22,
   "metadata": {},
   "outputs": [
    {
     "name": "stderr",
     "output_type": "stream",
     "text": [
      "3it [00:10,  3.39s/it]"
     ]
    },
    {
     "name": "stdout",
     "output_type": "stream",
     "text": [
      "train size: 14641\n",
      "test_size: 3660\n",
      "val_size: 4575\n"
     ]
    },
    {
     "name": "stderr",
     "output_type": "stream",
     "text": [
      "\n"
     ]
    }
   ],
   "source": [
    "train_test_val_split(train_ratio=0.01, test_ratio=0.08, val_ratio=0.1)"
   ]
  },
  {
   "cell_type": "code",
   "execution_count": 23,
   "metadata": {},
   "outputs": [],
   "source": [
    "import os\n",
    "test = os.listdir('/Users/peterbitman/Desktop/Deep_Solar_Eye/raw_data/test_data')"
   ]
  },
  {
   "cell_type": "code",
   "execution_count": 24,
   "metadata": {},
   "outputs": [
    {
     "data": {
      "text/plain": [
       "3660"
      ]
     },
     "execution_count": 24,
     "metadata": {},
     "output_type": "execute_result"
    }
   ],
   "source": [
    "len(test)"
   ]
  },
  {
   "cell_type": "code",
   "execution_count": 25,
   "metadata": {},
   "outputs": [],
   "source": [
    "from DeepSolarEye.handling.load_tensor import get_numerical_data, load_and_process_image, load_tensor"
   ]
  },
  {
   "cell_type": "code",
   "execution_count": 27,
   "metadata": {},
   "outputs": [],
   "source": [
    "path_test = \"test_data\"\n",
    "path_train = \"train_data\"\n",
    "path_val = \"val_data\"\n",
    "\n",
    "df_test = get_numerical_data(path_test)\n",
    "df_train = get_numerical_data(path_train)\n",
    "df_val = get_numerical_data(path_val)"
   ]
  },
  {
   "cell_type": "code",
   "execution_count": 28,
   "metadata": {},
   "outputs": [],
   "source": [
    "train_ds, batch_size = load_tensor(df_train, 16, path_train)\n",
    "test_ds, batch_size = load_tensor(df_test, 16, path_test)\n",
    "val_ds, batch_size = load_tensor(df_val, 16, path_val)"
   ]
  },
  {
   "cell_type": "code",
   "execution_count": 29,
   "metadata": {},
   "outputs": [
    {
     "name": "stdout",
     "output_type": "stream",
     "text": [
      "<class 'tensorflow.python.data.ops.zip_op._ZipDataset'>\n",
      "<class 'tensorflow.python.data.ops.zip_op._ZipDataset'>\n",
      "<class 'tensorflow.python.data.ops.zip_op._ZipDataset'>\n"
     ]
    }
   ],
   "source": [
    "print(type(train_ds))\n",
    "print(type(test_ds))\n",
    "print(type(val_ds))"
   ]
  },
  {
   "cell_type": "code",
   "execution_count": 30,
   "metadata": {},
   "outputs": [],
   "source": [
    "from tensorflow.keras.callbacks import EarlyStopping, ReduceLROnPlateau\n",
    "from DeepSolarEye.dl_logic.model import regression_ResNet"
   ]
  },
  {
   "cell_type": "code",
   "execution_count": 31,
   "metadata": {},
   "outputs": [],
   "source": [
    "from tensorflow.keras.optimizers.legacy import Adam\n",
    "\n",
    "initial_learning_rate = 0.01\n",
    "\n",
    "optimizer = Adam(learning_rate=initial_learning_rate)"
   ]
  },
  {
   "cell_type": "code",
   "execution_count": 32,
   "metadata": {},
   "outputs": [],
   "source": [
    "model = regression_ResNet(model_name='ResNet50', input_shape=(224, 224, 3),input_time_irradiance=(2,), num_units=512, pretrained=True)\n",
    "model.compile(optimizer='adam', loss='mean_squared_error', metrics=['mae'])"
   ]
  },
  {
   "cell_type": "code",
   "execution_count": 33,
   "metadata": {},
   "outputs": [
    {
     "name": "stdout",
     "output_type": "stream",
     "text": [
      "Epoch 1/500\n",
      "916/916 [==============================] - 593s 646ms/step - loss: 0.2157 - mae: 0.3126 - val_loss: 0.0967 - val_mae: 0.2762 - lr: 0.0010\n",
      "Epoch 2/500\n",
      "916/916 [==============================] - 595s 650ms/step - loss: 0.0867 - mae: 0.2502 - val_loss: 0.0889 - val_mae: 0.2730 - lr: 0.0010\n",
      "Epoch 3/500\n",
      "916/916 [==============================] - 571s 624ms/step - loss: 0.0828 - mae: 0.2470 - val_loss: 0.0807 - val_mae: 0.2544 - lr: 0.0010\n",
      "Epoch 4/500\n",
      "916/916 [==============================] - 569s 622ms/step - loss: 0.0818 - mae: 0.2460 - val_loss: 0.0792 - val_mae: 0.2481 - lr: 0.0010\n",
      "Epoch 5/500\n",
      "916/916 [==============================] - 570s 623ms/step - loss: 0.0804 - mae: 0.2451 - val_loss: 0.0789 - val_mae: 0.2469 - lr: 0.0010\n",
      "Epoch 6/500\n",
      "916/916 [==============================] - 571s 623ms/step - loss: 0.0796 - mae: 0.2449 - val_loss: 0.0785 - val_mae: 0.2454 - lr: 0.0010\n",
      "Epoch 7/500\n",
      "916/916 [==============================] - 564s 616ms/step - loss: 0.0793 - mae: 0.2443 - val_loss: 0.0782 - val_mae: 0.2450 - lr: 0.0010\n",
      "Epoch 8/500\n",
      "916/916 [==============================] - 566s 618ms/step - loss: 0.0790 - mae: 0.2437 - val_loss: 0.0779 - val_mae: 0.2448 - lr: 0.0010\n",
      "Epoch 9/500\n",
      "916/916 [==============================] - 571s 624ms/step - loss: 0.0788 - mae: 0.2431 - val_loss: 0.0777 - val_mae: 0.2434 - lr: 0.0010\n",
      "Epoch 10/500\n",
      "916/916 [==============================] - 567s 619ms/step - loss: 0.0785 - mae: 0.2427 - val_loss: 0.0779 - val_mae: 0.2440 - lr: 0.0010\n",
      "Epoch 11/500\n",
      "916/916 [==============================] - 567s 619ms/step - loss: 0.0791 - mae: 0.2426 - val_loss: 0.0772 - val_mae: 0.2432 - lr: 0.0010\n",
      "Epoch 12/500\n",
      "916/916 [==============================] - 566s 619ms/step - loss: 0.0782 - mae: 0.2420 - val_loss: 0.0771 - val_mae: 0.2429 - lr: 0.0010\n",
      "Epoch 13/500\n",
      "916/916 [==============================] - 568s 620ms/step - loss: 0.0781 - mae: 0.2417 - val_loss: 0.0770 - val_mae: 0.2427 - lr: 0.0010\n",
      "Epoch 14/500\n",
      "916/916 [==============================] - 568s 620ms/step - loss: 0.0780 - mae: 0.2414 - val_loss: 0.0769 - val_mae: 0.2426 - lr: 0.0010\n",
      "Epoch 15/500\n",
      "916/916 [==============================] - 565s 617ms/step - loss: 0.0779 - mae: 0.2412 - val_loss: 0.0767 - val_mae: 0.2420 - lr: 0.0010\n",
      "Epoch 16/500\n",
      "916/916 [==============================] - 571s 624ms/step - loss: 0.0778 - mae: 0.2410 - val_loss: 0.0766 - val_mae: 0.2418 - lr: 0.0010\n",
      "Epoch 17/500\n",
      "916/916 [==============================] - 563s 615ms/step - loss: 0.0777 - mae: 0.2408 - val_loss: 0.0765 - val_mae: 0.2415 - lr: 0.0010\n",
      "Epoch 18/500\n",
      "916/916 [==============================] - 565s 617ms/step - loss: 0.0776 - mae: 0.2407 - val_loss: 0.0766 - val_mae: 0.2411 - lr: 0.0010\n",
      "Epoch 19/500\n",
      "916/916 [==============================] - 566s 618ms/step - loss: 0.0775 - mae: 0.2406 - val_loss: 0.0764 - val_mae: 0.2411 - lr: 0.0010\n",
      "Epoch 20/500\n",
      "916/916 [==============================] - 562s 614ms/step - loss: 0.0775 - mae: 0.2405 - val_loss: 0.0762 - val_mae: 0.2406 - lr: 0.0010\n",
      "Epoch 21/500\n",
      "916/916 [==============================] - 563s 615ms/step - loss: 0.0773 - mae: 0.2403 - val_loss: 0.0762 - val_mae: 0.2404 - lr: 0.0010\n",
      "Epoch 22/500\n",
      "916/916 [==============================] - 564s 616ms/step - loss: 0.0773 - mae: 0.2401 - val_loss: 0.0760 - val_mae: 0.2402 - lr: 0.0010\n",
      "Epoch 23/500\n",
      "916/916 [==============================] - 569s 621ms/step - loss: 0.0771 - mae: 0.2399 - val_loss: 0.0760 - val_mae: 0.2399 - lr: 0.0010\n",
      "Epoch 24/500\n",
      "916/916 [==============================] - 566s 618ms/step - loss: 0.0770 - mae: 0.2396 - val_loss: 0.0758 - val_mae: 0.2399 - lr: 0.0010\n",
      "Epoch 25/500\n",
      "916/916 [==============================] - 563s 615ms/step - loss: 0.0769 - mae: 0.2394 - val_loss: 0.0757 - val_mae: 0.2396 - lr: 0.0010\n",
      "Epoch 26/500\n",
      "916/916 [==============================] - 566s 618ms/step - loss: 0.0768 - mae: 0.2393 - val_loss: 0.0755 - val_mae: 0.2392 - lr: 0.0010\n",
      "Epoch 27/500\n",
      "916/916 [==============================] - 563s 614ms/step - loss: 0.0767 - mae: 0.2391 - val_loss: 0.0754 - val_mae: 0.2388 - lr: 0.0010\n",
      "Epoch 28/500\n",
      "916/916 [==============================] - 563s 615ms/step - loss: 0.0766 - mae: 0.2388 - val_loss: 0.0754 - val_mae: 0.2389 - lr: 0.0010\n",
      "Epoch 29/500\n",
      "916/916 [==============================] - 563s 615ms/step - loss: 0.0765 - mae: 0.2385 - val_loss: 0.0752 - val_mae: 0.2384 - lr: 0.0010\n",
      "Epoch 30/500\n",
      "916/916 [==============================] - 563s 615ms/step - loss: 0.0764 - mae: 0.2383 - val_loss: 0.0751 - val_mae: 0.2382 - lr: 0.0010\n",
      "Epoch 31/500\n",
      "916/916 [==============================] - 563s 615ms/step - loss: 0.0763 - mae: 0.2381 - val_loss: 0.0750 - val_mae: 0.2377 - lr: 0.0010\n",
      "Epoch 32/500\n",
      "916/916 [==============================] - 562s 613ms/step - loss: 0.0762 - mae: 0.2378 - val_loss: 0.0750 - val_mae: 0.2376 - lr: 0.0010\n",
      "Epoch 33/500\n",
      "916/916 [==============================] - 561s 613ms/step - loss: 0.0760 - mae: 0.2375 - val_loss: 0.0748 - val_mae: 0.2371 - lr: 0.0010\n",
      "Epoch 34/500\n",
      "916/916 [==============================] - 561s 613ms/step - loss: 0.0759 - mae: 0.2372 - val_loss: 0.0747 - val_mae: 0.2374 - lr: 0.0010\n",
      "Epoch 35/500\n",
      "916/916 [==============================] - 564s 616ms/step - loss: 0.0758 - mae: 0.2371 - val_loss: 0.0747 - val_mae: 0.2368 - lr: 0.0010\n",
      "Epoch 36/500\n",
      "916/916 [==============================] - 566s 618ms/step - loss: 0.0757 - mae: 0.2367 - val_loss: 0.0745 - val_mae: 0.2368 - lr: 0.0010\n",
      "Epoch 37/500\n",
      "916/916 [==============================] - 568s 620ms/step - loss: 0.0756 - mae: 0.2365 - val_loss: 0.0743 - val_mae: 0.2366 - lr: 0.0010\n",
      "Epoch 38/500\n",
      "916/916 [==============================] - 562s 614ms/step - loss: 0.0754 - mae: 0.2361 - val_loss: 0.0742 - val_mae: 0.2366 - lr: 0.0010\n",
      "Epoch 39/500\n",
      "916/916 [==============================] - 564s 616ms/step - loss: 0.0753 - mae: 0.2357 - val_loss: 0.0741 - val_mae: 0.2362 - lr: 0.0010\n",
      "Epoch 40/500\n",
      "916/916 [==============================] - 565s 617ms/step - loss: 0.0752 - mae: 0.2354 - val_loss: 0.0739 - val_mae: 0.2359 - lr: 0.0010\n",
      "Epoch 41/500\n",
      "916/916 [==============================] - 571s 623ms/step - loss: 0.0751 - mae: 0.2351 - val_loss: 0.0737 - val_mae: 0.2353 - lr: 0.0010\n",
      "Epoch 42/500\n",
      "916/916 [==============================] - 567s 619ms/step - loss: 0.0749 - mae: 0.2348 - val_loss: 0.0736 - val_mae: 0.2351 - lr: 0.0010\n",
      "Epoch 43/500\n",
      "916/916 [==============================] - 566s 618ms/step - loss: 0.0748 - mae: 0.2345 - val_loss: 0.0734 - val_mae: 0.2348 - lr: 0.0010\n",
      "Epoch 44/500\n",
      "916/916 [==============================] - 565s 617ms/step - loss: 0.0747 - mae: 0.2342 - val_loss: 0.0734 - val_mae: 0.2344 - lr: 0.0010\n",
      "Epoch 45/500\n",
      "916/916 [==============================] - 569s 621ms/step - loss: 0.0746 - mae: 0.2339 - val_loss: 0.0733 - val_mae: 0.2346 - lr: 0.0010\n",
      "Epoch 46/500\n",
      "916/916 [==============================] - 612s 668ms/step - loss: 0.0745 - mae: 0.2337 - val_loss: 0.0733 - val_mae: 0.2345 - lr: 0.0010\n",
      "Epoch 47/500\n",
      "916/916 [==============================] - 645s 705ms/step - loss: 0.0744 - mae: 0.2334 - val_loss: 0.0731 - val_mae: 0.2340 - lr: 0.0010\n",
      "Epoch 48/500\n",
      "916/916 [==============================] - 638s 696ms/step - loss: 0.0743 - mae: 0.2332 - val_loss: 0.0731 - val_mae: 0.2337 - lr: 0.0010\n",
      "Epoch 49/500\n",
      "916/916 [==============================] - 649s 709ms/step - loss: 0.0743 - mae: 0.2331 - val_loss: 0.0730 - val_mae: 0.2340 - lr: 0.0010\n",
      "Epoch 50/500\n",
      "916/916 [==============================] - 628s 686ms/step - loss: 0.0742 - mae: 0.2329 - val_loss: 0.0730 - val_mae: 0.2340 - lr: 0.0010\n",
      "Epoch 51/500\n",
      "916/916 [==============================] - 663s 724ms/step - loss: 0.0741 - mae: 0.2328 - val_loss: 0.0730 - val_mae: 0.2338 - lr: 0.0010\n",
      "Epoch 52/500\n",
      "916/916 [==============================] - 662s 723ms/step - loss: 0.0740 - mae: 0.2326 - val_loss: 0.0729 - val_mae: 0.2333 - lr: 0.0010\n",
      "Epoch 53/500\n",
      "916/916 [==============================] - 657s 717ms/step - loss: 0.0740 - mae: 0.2323 - val_loss: 0.0729 - val_mae: 0.2331 - lr: 0.0010\n",
      "Epoch 54/500\n",
      "916/916 [==============================] - 637s 696ms/step - loss: 0.0739 - mae: 0.2323 - val_loss: 0.0728 - val_mae: 0.2332 - lr: 0.0010\n",
      "Epoch 55/500\n",
      "916/916 [==============================] - 620s 677ms/step - loss: 0.0739 - mae: 0.2322 - val_loss: 0.0727 - val_mae: 0.2330 - lr: 0.0010\n",
      "Epoch 56/500\n",
      "916/916 [==============================] - 722s 789ms/step - loss: 0.0738 - mae: 0.2321 - val_loss: 0.0726 - val_mae: 0.2326 - lr: 0.0010\n",
      "Epoch 57/500\n",
      "916/916 [==============================] - 1018s 1s/step - loss: 0.0737 - mae: 0.2319 - val_loss: 0.0726 - val_mae: 0.2326 - lr: 0.0010\n",
      "Epoch 58/500\n",
      " 87/916 [=>............................] - ETA: 14:08 - loss: 0.0719 - mae: 0.2313"
     ]
    },
    {
     "name": "stderr",
     "output_type": "stream",
     "text": [
      "2024-02-09 11:01:01.268843: W tensorflow/core/framework/op_kernel.cc:1839] OP_REQUIRES failed at whole_file_read_ops.cc:116 : NOT_FOUND: /Users/peterbitman/Desktop/Deep_Solar_Eye/notebooks/../raw_data/train_data/solar_Fri_Jun_23_15__30__6_2017_L_0.75896173795_I_0.340992156863.jpg; No such file or directory\n",
      "2024-02-09 11:01:01.271851: W tensorflow/core/framework/op_kernel.cc:1839] OP_REQUIRES failed at whole_file_read_ops.cc:116 : NOT_FOUND: /Users/peterbitman/Desktop/Deep_Solar_Eye/notebooks/../raw_data/train_data/solar_Fri_Jun_23_15__32__33_2017_L_0.818904529796_I_0.488356862745.jpg; No such file or directory\n",
      "2024-02-09 11:01:01.271904: W tensorflow/core/framework/op_kernel.cc:1839] OP_REQUIRES failed at whole_file_read_ops.cc:116 : NOT_FOUND: /Users/peterbitman/Desktop/Deep_Solar_Eye/notebooks/../raw_data/train_data/solar_Fri_Jun_23_15__30__26_2017_L_0.831362307542_I_0.503039215686.jpg; No such file or directory\n",
      "2024-02-09 11:01:01.271932: W tensorflow/core/framework/op_kernel.cc:1839] OP_REQUIRES failed at whole_file_read_ops.cc:116 : NOT_FOUND: /Users/peterbitman/Desktop/Deep_Solar_Eye/notebooks/../raw_data/train_data/solar_Fri_Jun_23_15__30__37_2017_L_0.873697142321_I_0.501160784314.jpg; No such file or directory\n",
      "2024-02-09 11:01:01.271959: W tensorflow/core/framework/op_kernel.cc:1839] OP_REQUIRES failed at whole_file_read_ops.cc:116 : NOT_FOUND: /Users/peterbitman/Desktop/Deep_Solar_Eye/notebooks/../raw_data/train_data/solar_Fri_Jun_23_15__31__7_2017_L_0.845348445268_I_0.372298039216.jpg; No such file or directory\n"
     ]
    },
    {
     "name": "stdout",
     "output_type": "stream",
     "text": [
      " 88/916 [=>............................] - ETA: 14:25 - loss: 0.0720 - mae: 0.2315"
     ]
    },
    {
     "name": "stderr",
     "output_type": "stream",
     "text": [
      "2024-02-09 11:01:04.187601: W tensorflow/core/framework/op_kernel.cc:1839] OP_REQUIRES failed at whole_file_read_ops.cc:116 : NOT_FOUND: /Users/peterbitman/Desktop/Deep_Solar_Eye/notebooks/../raw_data/train_data/solar_Fri_Jun_23_15__36__10_2017_L_0.815042453885_I_0.543611764706.jpg; No such file or directory\n",
      "2024-02-09 11:01:04.187828: W tensorflow/core/framework/op_kernel.cc:1839] OP_REQUIRES failed at whole_file_read_ops.cc:116 : NOT_FOUND: /Users/peterbitman/Desktop/Deep_Solar_Eye/notebooks/../raw_data/train_data/solar_Fri_Jun_23_15__37__1_2017_L_0.822612811049_I_0.526996078431.jpg; No such file or directory\n",
      "2024-02-09 11:01:04.187905: W tensorflow/core/framework/op_kernel.cc:1839] OP_REQUIRES failed at whole_file_read_ops.cc:116 : NOT_FOUND: /Users/peterbitman/Desktop/Deep_Solar_Eye/notebooks/../raw_data/train_data/solar_Fri_Jun_23_15__36__56_2017_L_0.822612811049_I_0.526996078431.jpg; No such file or directory\n",
      "2024-02-09 11:01:04.187916: W tensorflow/core/framework/op_kernel.cc:1839] OP_REQUIRES failed at whole_file_read_ops.cc:116 : NOT_FOUND: /Users/peterbitman/Desktop/Deep_Solar_Eye/notebooks/../raw_data/train_data/solar_Fri_Jun_23_15__37__16_2017_L_0.817717051984_I_0.520070588235.jpg; No such file or directory\n",
      "2024-02-09 11:01:04.187938: W tensorflow/core/framework/op_kernel.cc:1839] OP_REQUIRES failed at whole_file_read_ops.cc:116 : NOT_FOUND: /Users/peterbitman/Desktop/Deep_Solar_Eye/notebooks/../raw_data/train_data/solar_Fri_Jun_23_15__38__17_2017_L_0.821794449412_I_0.499929411765.jpg; No such file or directory\n",
      "2024-02-09 11:01:04.187981: W tensorflow/core/framework/op_kernel.cc:1839] OP_REQUIRES failed at whole_file_read_ops.cc:116 : NOT_FOUND: /Users/peterbitman/Desktop/Deep_Solar_Eye/notebooks/../raw_data/train_data/solar_Fri_Jun_23_15__37__36_2017_L_0.818591712901_I_0.513152941176.jpg; No such file or directory\n",
      "2024-02-09 11:01:04.188009: W tensorflow/core/framework/op_kernel.cc:1839] OP_REQUIRES failed at whole_file_read_ops.cc:116 : NOT_FOUND: /Users/peterbitman/Desktop/Deep_Solar_Eye/notebooks/../raw_data/train_data/solar_Fri_Jun_23_15__36__40_2017_L_0.819633448385_I_0.535141176471.jpg; No such file or directory\n",
      "2024-02-09 11:01:04.188288: W tensorflow/core/framework/op_kernel.cc:1839] OP_REQUIRES failed at whole_file_read_ops.cc:116 : NOT_FOUND: /Users/peterbitman/Desktop/Deep_Solar_Eye/notebooks/../raw_data/train_data/solar_Fri_Jun_23_15__37__56_2017_L_0.821498508019_I_0.504658823529.jpg; No such file or directory\n"
     ]
    },
    {
     "name": "stdout",
     "output_type": "stream",
     "text": [
      " 89/916 [=>............................] - ETA: 14:38 - loss: 0.0717 - mae: 0.2311"
     ]
    },
    {
     "name": "stderr",
     "output_type": "stream",
     "text": [
      "2024-02-09 11:01:06.696477: W tensorflow/core/framework/op_kernel.cc:1839] OP_REQUIRES failed at whole_file_read_ops.cc:116 : NOT_FOUND: /Users/peterbitman/Desktop/Deep_Solar_Eye/notebooks/../raw_data/train_data/solar_Fri_Jun_23_15__40__58_2017_L_0.831428596998_I_0.438192156863.jpg; No such file or directory\n",
      "2024-02-09 11:01:06.696551: W tensorflow/core/framework/op_kernel.cc:1839] OP_REQUIRES failed at whole_file_read_ops.cc:116 : NOT_FOUND: /Users/peterbitman/Desktop/Deep_Solar_Eye/notebooks/../raw_data/train_data/solar_Fri_Jun_23_15__42__35_2017_L_0.833960475807_I_0.413745098039.jpg; No such file or directory\n",
      "2024-02-09 11:01:06.696583: W tensorflow/core/framework/op_kernel.cc:1839] OP_REQUIRES failed at whole_file_read_ops.cc:116 : NOT_FOUND: /Users/peterbitman/Desktop/Deep_Solar_Eye/notebooks/../raw_data/train_data/solar_Fri_Jun_23_15__42__30_2017_L_0.831276844247_I_0.416345098039.jpg; No such file or directory\n",
      "2024-02-09 11:01:06.696600: W tensorflow/core/framework/op_kernel.cc:1839] OP_REQUIRES failed at whole_file_read_ops.cc:116 : NOT_FOUND: /Users/peterbitman/Desktop/Deep_Solar_Eye/notebooks/../raw_data/train_data/solar_Fri_Jun_23_15__41__19_2017_L_0.830809153538_I_0.424650980392.jpg; No such file or directory\n",
      "2024-02-09 11:01:06.696616: W tensorflow/core/framework/op_kernel.cc:1839] OP_REQUIRES failed at whole_file_read_ops.cc:116 : NOT_FOUND: /Users/peterbitman/Desktop/Deep_Solar_Eye/notebooks/../raw_data/train_data/solar_Fri_Jun_23_15__40__28_2017_L_0.821942973453_I_0.454690196078.jpg; No such file or directory\n",
      "2024-02-09 11:01:06.696644: W tensorflow/core/framework/op_kernel.cc:1839] OP_REQUIRES failed at whole_file_read_ops.cc:116 : NOT_FOUND: /Users/peterbitman/Desktop/Deep_Solar_Eye/notebooks/../raw_data/train_data/solar_Fri_Jun_23_15__3__49_2017_L_0.846951659452_I_0.173929411765.jpg; No such file or directory\n",
      "2024-02-09 11:01:06.696646: W tensorflow/core/framework/op_kernel.cc:1839] OP_REQUIRES failed at whole_file_read_ops.cc:116 : NOT_FOUND: /Users/peterbitman/Desktop/Deep_Solar_Eye/notebooks/../raw_data/train_data/solar_Fri_Jun_23_15__40__18_2017_L_0.820665215933_I_0.455933333333.jpg; No such file or directory\n",
      "2024-02-09 11:01:06.696658: W tensorflow/core/framework/op_kernel.cc:1839] OP_REQUIRES failed at whole_file_read_ops.cc:116 : NOT_FOUND: /Users/peterbitman/Desktop/Deep_Solar_Eye/notebooks/../raw_data/train_data/solar_Fri_Jun_23_15__41__9_2017_L_0.833189478944_I_0.43162745098.jpg; No such file or directory\n"
     ]
    },
    {
     "name": "stdout",
     "output_type": "stream",
     "text": [
      " 90/916 [=>............................] - ETA: 14:49 - loss: 0.0716 - mae: 0.2310"
     ]
    },
    {
     "name": "stderr",
     "output_type": "stream",
     "text": [
      "2024-02-09 11:01:09.154932: W tensorflow/core/framework/op_kernel.cc:1839] OP_REQUIRES failed at whole_file_read_ops.cc:116 : NOT_FOUND: /Users/peterbitman/Desktop/Deep_Solar_Eye/notebooks/../raw_data/train_data/solar_Fri_Jun_23_15__45__21_2017_L_0.779164612766_I_0.421643137255.jpg; No such file or directory\n",
      "2024-02-09 11:01:09.155086: W tensorflow/core/framework/op_kernel.cc:1839] OP_REQUIRES failed at whole_file_read_ops.cc:116 : NOT_FOUND: /Users/peterbitman/Desktop/Deep_Solar_Eye/notebooks/../raw_data/train_data/solar_Fri_Jun_23_15__49__23_2017_L_0.00121715277084_I_0.431737254902.jpg; No such file or directory\n",
      "2024-02-09 11:01:09.155262: W tensorflow/core/framework/op_kernel.cc:1839] OP_REQUIRES failed at whole_file_read_ops.cc:116 : NOT_FOUND: /Users/peterbitman/Desktop/Deep_Solar_Eye/notebooks/../raw_data/train_data/solar_Fri_Jun_23_15__45__31_2017_L_0.756561253825_I_0.422862745098.jpg; No such file or directory\n",
      "2024-02-09 11:01:09.155329: W tensorflow/core/framework/op_kernel.cc:1839] OP_REQUIRES failed at whole_file_read_ops.cc:116 : NOT_FOUND: /Users/peterbitman/Desktop/Deep_Solar_Eye/notebooks/../raw_data/train_data/solar_Fri_Jun_23_15__49__28_2017_L_0.00121715277084_I_0.431737254902.jpg; No such file or directory\n",
      "2024-02-09 11:01:09.155418: W tensorflow/core/framework/op_kernel.cc:1839] OP_REQUIRES failed at whole_file_read_ops.cc:116 : NOT_FOUND: /Users/peterbitman/Desktop/Deep_Solar_Eye/notebooks/../raw_data/train_data/solar_Fri_Jun_23_15__45__6_2017_L_0.811131100923_I_0.337862745098.jpg; No such file or directory\n",
      "2024-02-09 11:01:09.155644: W tensorflow/core/framework/op_kernel.cc:1839] OP_REQUIRES failed at whole_file_read_ops.cc:116 : NOT_FOUND: /Users/peterbitman/Desktop/Deep_Solar_Eye/notebooks/../raw_data/train_data/solar_Fri_Jun_23_15__4__20_2017_L_0.846071718696_I_0.168960784314.jpg; No such file or directory\n",
      "2024-02-09 11:01:09.155868: W tensorflow/core/framework/op_kernel.cc:1839] OP_REQUIRES failed at whole_file_read_ops.cc:116 : NOT_FOUND: /Users/peterbitman/Desktop/Deep_Solar_Eye/notebooks/../raw_data/train_data/solar_Fri_Jun_23_15__4__0_2017_L_0.84211717318_I_0.173298039216.jpg; No such file or directory\n",
      "2024-02-09 11:01:09.156036: W tensorflow/core/framework/op_kernel.cc:1839] OP_REQUIRES failed at whole_file_read_ops.cc:116 : NOT_FOUND: /Users/peterbitman/Desktop/Deep_Solar_Eye/notebooks/../raw_data/train_data/solar_Fri_Jun_23_15__4__10_2017_L_0.846465910935_I_0.169164705882.jpg; No such file or directory\n"
     ]
    },
    {
     "ename": "NotFoundError",
     "evalue": "Graph execution error:\n\nDetected at node ReadFile defined at (most recent call last):\n<stack traces unavailable>\n/Users/peterbitman/Desktop/Deep_Solar_Eye/notebooks/../raw_data/train_data/solar_Fri_Jun_23_15__30__26_2017_L_0.831362307542_I_0.503039215686.jpg; No such file or directory\n\t [[{{node ReadFile}}]]\n\t [[IteratorGetNext]] [Op:__inference_train_function_119551]",
     "output_type": "error",
     "traceback": [
      "\u001b[0;31m---------------------------------------------------------------------------\u001b[0m",
      "\u001b[0;31mNotFoundError\u001b[0m                             Traceback (most recent call last)",
      "Cell \u001b[0;32mIn[33], line 13\u001b[0m\n\u001b[1;32m      1\u001b[0m early_stopping \u001b[38;5;241m=\u001b[39m EarlyStopping(\n\u001b[1;32m      2\u001b[0m     monitor\u001b[38;5;241m=\u001b[39m\u001b[38;5;124m'\u001b[39m\u001b[38;5;124mval_loss\u001b[39m\u001b[38;5;124m'\u001b[39m,\n\u001b[1;32m      3\u001b[0m     patience\u001b[38;5;241m=\u001b[39m\u001b[38;5;241m6\u001b[39m,\n\u001b[1;32m      4\u001b[0m     verbose\u001b[38;5;241m=\u001b[39m\u001b[38;5;241m1\u001b[39m,\n\u001b[1;32m      5\u001b[0m     restore_best_weights\u001b[38;5;241m=\u001b[39m\u001b[38;5;28;01mTrue\u001b[39;00m\n\u001b[1;32m      6\u001b[0m )\n\u001b[1;32m      8\u001b[0m reduce_lr \u001b[38;5;241m=\u001b[39m ReduceLROnPlateau(monitor\u001b[38;5;241m=\u001b[39m\u001b[38;5;124m'\u001b[39m\u001b[38;5;124mval_loss\u001b[39m\u001b[38;5;124m'\u001b[39m,\n\u001b[1;32m      9\u001b[0m                               factor\u001b[38;5;241m=\u001b[39m\u001b[38;5;241m0.2\u001b[39m,\n\u001b[1;32m     10\u001b[0m                               patience\u001b[38;5;241m=\u001b[39m\u001b[38;5;241m4\u001b[39m\n\u001b[1;32m     11\u001b[0m                               )\n\u001b[0;32m---> 13\u001b[0m history \u001b[38;5;241m=\u001b[39m \u001b[43mmodel\u001b[49m\u001b[38;5;241;43m.\u001b[39;49m\u001b[43mfit\u001b[49m\u001b[43m(\u001b[49m\u001b[43mtrain_ds\u001b[49m\u001b[43m,\u001b[49m\n\u001b[1;32m     14\u001b[0m \u001b[43m            \u001b[49m\u001b[43mepochs\u001b[49m\u001b[38;5;241;43m=\u001b[39;49m\u001b[38;5;241;43m500\u001b[39;49m\u001b[43m,\u001b[49m\n\u001b[1;32m     15\u001b[0m \u001b[43m            \u001b[49m\u001b[43mbatch_size\u001b[49m\u001b[38;5;241;43m=\u001b[39;49m\u001b[43mbatch_size\u001b[49m\u001b[43m,\u001b[49m\n\u001b[1;32m     16\u001b[0m \u001b[43m            \u001b[49m\u001b[43mvalidation_data\u001b[49m\u001b[38;5;241;43m=\u001b[39;49m\u001b[43mval_ds\u001b[49m\u001b[43m,\u001b[49m\n\u001b[1;32m     17\u001b[0m \u001b[43m            \u001b[49m\u001b[43mcallbacks\u001b[49m\u001b[38;5;241;43m=\u001b[39;49m\u001b[43m[\u001b[49m\u001b[43mearly_stopping\u001b[49m\u001b[43m,\u001b[49m\u001b[43m \u001b[49m\u001b[43mreduce_lr\u001b[49m\u001b[43m]\u001b[49m\u001b[43m,\u001b[49m\n\u001b[1;32m     18\u001b[0m \u001b[43m           \u001b[49m\u001b[43m)\u001b[49m\n",
      "File \u001b[0;32m~/.pyenv/versions/3.10.6/envs/Deep_Solar_Eye/lib/python3.10/site-packages/keras/src/utils/traceback_utils.py:70\u001b[0m, in \u001b[0;36mfilter_traceback.<locals>.error_handler\u001b[0;34m(*args, **kwargs)\u001b[0m\n\u001b[1;32m     67\u001b[0m     filtered_tb \u001b[38;5;241m=\u001b[39m _process_traceback_frames(e\u001b[38;5;241m.\u001b[39m__traceback__)\n\u001b[1;32m     68\u001b[0m     \u001b[38;5;66;03m# To get the full stack trace, call:\u001b[39;00m\n\u001b[1;32m     69\u001b[0m     \u001b[38;5;66;03m# `tf.debugging.disable_traceback_filtering()`\u001b[39;00m\n\u001b[0;32m---> 70\u001b[0m     \u001b[38;5;28;01mraise\u001b[39;00m e\u001b[38;5;241m.\u001b[39mwith_traceback(filtered_tb) \u001b[38;5;28;01mfrom\u001b[39;00m \u001b[38;5;28;01mNone\u001b[39;00m\n\u001b[1;32m     71\u001b[0m \u001b[38;5;28;01mfinally\u001b[39;00m:\n\u001b[1;32m     72\u001b[0m     \u001b[38;5;28;01mdel\u001b[39;00m filtered_tb\n",
      "File \u001b[0;32m~/.pyenv/versions/3.10.6/envs/Deep_Solar_Eye/lib/python3.10/site-packages/tensorflow/python/eager/execute.py:53\u001b[0m, in \u001b[0;36mquick_execute\u001b[0;34m(op_name, num_outputs, inputs, attrs, ctx, name)\u001b[0m\n\u001b[1;32m     51\u001b[0m \u001b[38;5;28;01mtry\u001b[39;00m:\n\u001b[1;32m     52\u001b[0m   ctx\u001b[38;5;241m.\u001b[39mensure_initialized()\n\u001b[0;32m---> 53\u001b[0m   tensors \u001b[38;5;241m=\u001b[39m pywrap_tfe\u001b[38;5;241m.\u001b[39mTFE_Py_Execute(ctx\u001b[38;5;241m.\u001b[39m_handle, device_name, op_name,\n\u001b[1;32m     54\u001b[0m                                       inputs, attrs, num_outputs)\n\u001b[1;32m     55\u001b[0m \u001b[38;5;28;01mexcept\u001b[39;00m core\u001b[38;5;241m.\u001b[39m_NotOkStatusException \u001b[38;5;28;01mas\u001b[39;00m e:\n\u001b[1;32m     56\u001b[0m   \u001b[38;5;28;01mif\u001b[39;00m name \u001b[38;5;129;01mis\u001b[39;00m \u001b[38;5;129;01mnot\u001b[39;00m \u001b[38;5;28;01mNone\u001b[39;00m:\n",
      "\u001b[0;31mNotFoundError\u001b[0m: Graph execution error:\n\nDetected at node ReadFile defined at (most recent call last):\n<stack traces unavailable>\n/Users/peterbitman/Desktop/Deep_Solar_Eye/notebooks/../raw_data/train_data/solar_Fri_Jun_23_15__30__26_2017_L_0.831362307542_I_0.503039215686.jpg; No such file or directory\n\t [[{{node ReadFile}}]]\n\t [[IteratorGetNext]] [Op:__inference_train_function_119551]"
     ]
    }
   ],
   "source": [
    "early_stopping = EarlyStopping(\n",
    "    monitor='val_loss',\n",
    "    patience=6,\n",
    "    verbose=1,\n",
    "    restore_best_weights=True\n",
    ")\n",
    "\n",
    "reduce_lr = ReduceLROnPlateau(monitor='val_loss',\n",
    "                              factor=0.2,\n",
    "                              patience=4\n",
    "                              )\n",
    "\n",
    "history = model.fit(train_ds,\n",
    "            epochs=500,\n",
    "            batch_size=batch_size,\n",
    "            validation_data=val_ds,\n",
    "            callbacks=[early_stopping, reduce_lr],\n",
    "           )"
   ]
  },
  {
   "cell_type": "code",
   "execution_count": 14,
   "metadata": {},
   "outputs": [
    {
     "data": {
      "image/png": "[encoded data removed]",
      "text/plain": [
       "<Figure size 1000x500 with 2 Axes>"
      ]
     },
     "metadata": {},
     "output_type": "display_data"
    }
   ],
   "source": [
    "import matplotlib.pyplot as plt\n",
    "# Extracting metrics from history\n",
    "mse = history.history['loss']\n",
    "mae = history.history['mae']\n",
    "\n",
    "# Plotting\n",
    "epochs = range(1, len(mse) + 1)\n",
    "plt.figure(figsize=(10, 5))\n",
    "\n",
    "# Plot MSE\n",
    "plt.subplot(1, 2, 1)\n",
    "plt.plot(epochs, mse, 'b', label='Loss (MSE)')\n",
    "plt.title('Mean Squared Error')\n",
    "plt.xlabel('Epochs')\n",
    "plt.ylabel('MSE')\n",
    "plt.legend()\n",
    "\n",
    "# Plot MSE\n",
    "plt.subplot(1, 2, 2)\n",
    "plt.plot(epochs, mae, 'b', label='MAE')\n",
    "plt.title('Mean Average Error')\n",
    "plt.xlabel('Epochs')\n",
    "plt.ylabel('MAE')\n",
    "plt.legend()\n",
    "\n",
    "plt.tight_layout()\n",
    "plt.show()"
   ]
  },
  {
   "cell_type": "code",
   "execution_count": 15,
   "metadata": {},
   "outputs": [
    {
     "data": {
      "text/html": [
       "<div>\n",
       "<style scoped>\n",
       "    .dataframe tbody tr th:only-of-type {\n",
       "        vertical-align: middle;\n",
       "    }\n",
       "\n",
       "    .dataframe tbody tr th {\n",
       "        vertical-align: top;\n",
       "    }\n",
       "\n",
       "    .dataframe thead th {\n",
       "        text-align: right;\n",
       "    }\n",
       "</style>\n",
       "<table border=\"1\" class=\"dataframe\">\n",
       "  <thead>\n",
       "    <tr style=\"text-align: right;\">\n",
       "      <th></th>\n",
       "      <th>Seconds of Day</th>\n",
       "      <th>Percentage Loss</th>\n",
       "      <th>Irradiance Level</th>\n",
       "    </tr>\n",
       "  </thead>\n",
       "  <tbody>\n",
       "    <tr>\n",
       "      <th>0</th>\n",
       "      <td>0.340415</td>\n",
       "      <td>0.199050</td>\n",
       "      <td>0.297520</td>\n",
       "    </tr>\n",
       "    <tr>\n",
       "      <th>1</th>\n",
       "      <td>0.952372</td>\n",
       "      <td>0.719683</td>\n",
       "      <td>0.125759</td>\n",
       "    </tr>\n",
       "    <tr>\n",
       "      <th>2</th>\n",
       "      <td>0.802329</td>\n",
       "      <td>0.396875</td>\n",
       "      <td>0.284165</td>\n",
       "    </tr>\n",
       "  </tbody>\n",
       "</table>\n",
       "</div>"
      ],
      "text/plain": [
       "   Seconds of Day  Percentage Loss  Irradiance Level\n",
       "0        0.340415         0.199050          0.297520\n",
       "1        0.952372         0.719683          0.125759\n",
       "2        0.802329         0.396875          0.284165"
      ]
     },
     "execution_count": 15,
     "metadata": {},
     "output_type": "execute_result"
    }
   ],
   "source": [
    "df_test.head(3)"
   ]
  },
  {
   "cell_type": "code",
   "execution_count": 16,
   "metadata": {},
   "outputs": [
    {
     "data": {
      "text/plain": [
       "<_ZipDataset element_spec=((TensorSpec(shape=(None, 224, 224, 3), dtype=tf.float32, name=None), TensorSpec(shape=(None, 2), dtype=tf.float32, name=None)), TensorSpec(shape=(None, 1), dtype=tf.float32, name=None))>"
      ]
     },
     "execution_count": 16,
     "metadata": {},
     "output_type": "execute_result"
    }
   ],
   "source": [
    "test_ds"
   ]
  },
  {
   "cell_type": "code",
   "execution_count": 17,
   "metadata": {},
   "outputs": [
    {
     "name": "stdout",
     "output_type": "stream",
     "text": [
      "[[0.19905008375644684], [0.7196834683418274], [0.39687514305114746], [0.4662178158760071], [0.1645469069480896], [0.7316280603408813], [0.08269376307725906], [0.005819190759211779], [0.041737060993909836], [0.14477519690990448], [0.8505403399467468], [0.032624442130327225], [0.06769832968711853], [0.051547374576330185], [0.6648725867271423], [0.62892085313797], [0.08953069150447845], [0.01715591549873352], [0.0156725887209177], [0.08922919631004333], [0.013192650862038136], [0.08123812824487686], [0.8087913990020752], [0.16183693706989288], [0.3326430022716522], [0.10974735766649246], [0.6624370813369751], [0.9632077813148499], [0.2502811551094055], [0.0052125100046396255], [0.1063043624162674], [0.03566984832286835], [0.07241427898406982], [0.1195966973900795], [0.2909330129623413], [0.08663368970155716], [0.6474552750587463], [0.07412264496088028], [0.6927054524421692], [0.5824285745620728], [0.19235727190971375], [0.013501862995326519], [0.9156534075737], [0.6623079180717468], [0.0709957405924797], [0.0029693234246224165], [0.10833104699850082], [0.1924905776977539], [0.2318454384803772], [0.03480681777000427], [0.23107954859733582], [0.29694661498069763], [0.1533927172422409], [0.1112760454416275], [0.1113344058394432], [0.6991778016090393], [0.021840900182724], [0.07143780589103699], [0.5303809642791748], [0.6300695538520813], [0.006482150871306658], [0.016079189255833626], [0.1353728473186493], [0.2216845154762268], [0.23537802696228027], [0.8962001800537109], [0.894311785697937], [0.0243893601000309], [0.007462999317795038], [0.8768919110298157], [0.6571753025054932], [0.03598512336611748], [0.010749629698693752], [0.004246076103299856], [0.13429337739944458], [0.6323716640472412], [0.5307965874671936], [0.03129538893699646], [0.007971606217324734], [0.6951998472213745], [0.010116759687662125], [0.3165994882583618], [0.33778050541877747], [0.2927588224411011], [0.014298892579972744], [0.3253280818462372], [0.06404490768909454], [0.00208136229775846], [0.12369363754987717], [0.01078189816325903], [0.6628789901733398], [0.1524958312511444], [0.672430694103241], [0.3354421555995941], [0.8508175611495972], [0.05845240131020546], [0.8564580678939819], [0.017719237133860588], [0.03326398879289627], [0.772165834903717], [0.10095591098070145], [0.06712663173675537], [0.6626827716827393], [0.6301534175872803], [0.05706281214952469], [0.6446085572242737], [0.15185806155204773], [0.620227575302124], [0.5898891091346741], [0.7861396074295044], [0.05637842416763306], [0.876946747303009], [0.6785301566123962], [0.017031893134117126], [0.17013701796531677], [0.11142826825380325], [0.02597980946302414], [0.11058484762907028], [0.11992235481739044], [0.024302752688527107], [0.8436838388442993], [0.07606393098831177], [0.03304841369390488], [0.19651634991168976], [0.9714195728302002], [0.38696855306625366], [0.05387816205620766], [0.4767228066921234], [0.3707142770290375], [0.8066871166229248], [0.6606156826019287], [0.15999773144721985], [0.6361875534057617], [0.3660030663013458], [0.3948376178741455], [0.04616686701774597], [0.09723497927188873], [0.006997021846473217], [0.06348924338817596], [0.6336628198623657], [0.02717559225857258], [0.27601158618927], [0.15661700069904327], [0.041820380836725235], [0.14885613322257996], [0.31197771430015564], [0.6075812578201294], [0.006689139176160097], [0.6334473490715027], [0.005830566398799419], [0.9447512626647949], [0.3756207823753357], [0.6366843581199646], [0.5905162692070007], [0.14847968518733978], [0.1342005878686905], [0.8525187969207764], [0.10258488357067108], [0.06284916400909424], [0.26392677426338196], [0.15791796147823334], [0.020847739651799202], [0.07003737986087799], [0.29483869671821594], [0.3287564814090729], [0.7232117056846619], [0.32625147700309753], [0.03775113821029663], [0.009009752422571182], [0.11362451314926147], [0.8860249519348145], [0.02113385498523712], [0.6116278767585754], [0.009838350117206573], [0.4200054705142975], [0.005033029243350029], [0.024638881906867027], [0.05278518795967102], [0.05730290338397026], [0.6189149022102356], [0.038348712027072906], [0.026437239721417427], [0.6139299869537354], [0.014383453875780106], [0.7844889163970947], [0.19493673741817474], [0.8607737421989441], [0.15603050589561462], [0.7223922610282898], [0.053060904145240784], [0.680905818939209], [0.8444041609764099], [0.38657572865486145], [0.033160168677568436], [0.0015760441310703754], [0.061486825346946716], [0.14899395406246185], [0.3035762906074524], [0.5097444653511047], [0.6232145428657532], [0.9509559273719788], [0.8763551712036133], [0.6388997435569763], [0.11723857372999191], [0.04163745790719986], [0.05303475260734558], [0.32802814245224], [0.004579100292176008], [0.5224992632865906], [0.05305694788694382], [0.15896984934806824], [0.7316280603408813], [0.024042245000600815], [0.7528260350227356], [0.02982398122549057], [0.5333821773529053], [0.88154536485672], [0.004615552257746458], [0.3011512756347656], [0.09490284323692322], [0.01694524474442005], [0.018749602138996124], [0.025026708841323853], [0.1962663233280182], [0.3605569303035736], [0.3208233416080475], [0.14067333936691284], [0.0314311608672142], [0.10348671674728394], [0.9076299071311951], [0.12992750108242035], [0.6621838212013245], [0.01627558283507824], [0.774491548538208], [0.31651684641838074], [0.03062167391180992], [0.003601406468078494], [0.10847117006778717], [0.6423584818840027], [0.10439799726009369], [0.15612031519412994], [0.13889609277248383], [0.6351541876792908], [0.46630486845970154], [0.12681637704372406], [0.27980658411979675], [0.000910524046048522], [0.02604062296450138], [0.006261385977268219], [0.6637740135192871], [0.8720874190330505], [0.6527907848358154], [0.1268807202577591], [0.019747328013181686], [0.026224927976727486], [0.10400503128767014], [0.3920825123786926], [0.4717102646827698], [0.8248447775840759], [0.0064598615281283855], [0.14628997445106506], [0.10792563855648041], [0.05247051641345024], [0.12809044122695923], [0.06431546807289124], [0.05730290338397026], [0.9518154263496399], [0.1042005643248558], [0.3762950599193573], [0.020569568499922752], [0.9041340351104736], [0.02852468378841877], [0.5526606440544128], [0.00030774774495512247], [0.06412792205810547], [0.02786109782755375], [0.03855321183800697], [0.5010235905647278], [0.08346199989318848], [0.3313511610031128], [0.07213161885738373], [0.07069053500890732], [0.12260017544031143], [0.12634022533893585], [0.8130362629890442], [0.08787301927804947], [0.04521859437227249], [0.018039878457784653], [0.10211540013551712], [0.09190793335437775], [0.9530740976333618], [0.03846689313650131], [0.008816313929855824], [0.34505757689476013], [0.005488920491188765], [0.6643755435943604], [0.8730381727218628], [0.1584932506084442], [0.016809090971946716], [0.40804150700569153], [0.6560502052307129], [0.6648474335670471], [0.9648370742797852], [0.6608210802078247], [0.6501473188400269], [0.0186349768191576], [0.028054121881723404], [0.03096613846719265], [0.6775211095809937], [0.0188310407102108], [0.7122315168380737], [0.005104919895529747], [0.3344881236553192], [0.026399049907922745], [0.6966990232467651], [0.029293686151504517], [0.548942506313324], [0.024247905239462852], [0.00019922302453778684], [0.259296715259552], [0.6221628785133362], [0.04821435734629631], [0.8017593026161194], [0.408391535282135], [0.14704164862632751], [0.1318131685256958], [0.013996685855090618], [0.29924529790878296], [0.022296646609902382], [0.19158700108528137], [0.023678414523601532], [0.6392268538475037], [0.7911342978477478], [0.627386748790741], [0.8792465925216675], [0.00945538841187954], [0.0014319343026727438], [0.04639102891087532], [0.07300116121768951], [0.032847873866558075], [0.6452181339263916], [0.45620983839035034], [0.3048301339149475], [0.019103020429611206], [0.3006308674812317], [0.6464398503303528], [0.08280099183320999], [0.18737532198429108], [0.17602704465389252], [0.10391095280647278], [0.24176914989948273], [0.5655722618103027], [0.7078746557235718], [0.1328888237476349], [0.028859080746769905], [0.11017227917909622], [0.06756651401519775], [0.21265800297260284], [0.1250023990869522], [0.41427627205848694], [0.22802062332630157], [0.12258907407522202], [0.14876540005207062], [0.01614517904818058], [0.6397375464439392], [0.2669409513473511], [0.023860573768615723], [0.025691522285342216], [0.029962947592139244], [0.20741599798202515], [0.02525647170841694], [0.06689922511577606], [0.7312659025192261], [0.058004230260849], [0.07189389318227768], [0.026584332808852196], [0.010910360142588615], [0.17036503553390503], [0.0019928445108234882], [0.04439046233892441], [0.26608961820602417], [0.09639067202806473], [0.0659927949309349], [0.071231409907341], [0.6528964638710022], [0.08613266050815582], [0.01721549965441227], [0.04856252297759056], [0.0475945882499218], [0.3176044523715973], [0.7959038615226746], [0.010340550914406776], [0.3537828028202057], [0.20037628710269928], [0.010744331404566765], [0.08243424445390701], [0.1200031265616417], [0.10501029342412949], [0.06224039942026138], [0.12991470098495483], [0.10182181000709534], [0.6308832168579102], [0.09375], [0.011886034160852432], [0.011918202042579651], [0.0005827694549225271], [0.5325318574905396], [0.09735891968011856], [0.15959689021110535], [0.37294769287109375], [0.02604062296450138], [0.0464642159640789], [0.1288251131772995], [0.05759787932038307], [0.023573067039251328], [0.07103988528251648], [0.017594149336218834], [0.03008761815726757], [0.7145284414291382], [0.41017019748687744], [0.5893189907073975], [0.9069443941116333], [0.013456464745104313], [0.06577912718057632], [0.020531034097075462], [0.045263733714818954], [0.40832439064979553], [0.01622123084962368], [0.05567134916782379], [0.791755199432373], [0.6287363171577454], [0.0020176994148641825], [0.13881133496761322], [0.3278983533382416], [0.07013779878616333], [0.1147298514842987], [0.013356040231883526], [0.04649261385202408], [0.25025346875190735], [0.4251699447631836], [0.06903021782636642], [0.3914932310581207], [0.13348469138145447], [0.11869148164987564], [0.011536791920661926], [0.03451212868094444], [0.9516168832778931], [0.02702558971941471], [0.0234919935464859], [0.44080784916877747], [0.029125401750206947], [0.00860578753054142], [0.4228034019470215], [0.03488810732960701], [0.18930713832378387], [0.0014256569556891918], [0.018871303647756577], [0.2209128439426422], [0.019513431936502457], [0.01586243137717247], [0.8101359605789185], [0.2925470471382141], [0.9509310722351074], [0.07650530338287354], [0.14471755921840668], [0.025644462555646896], [0.10078097879886627], [0.27272939682006836], [0.04687615856528282], [0.019173653796315193], [0.022069856524467468], [0.6606826782226562], [0.11799779534339905], [0.15672855079174042], [0.7819703817367554], [0.12942147254943848], [0.11969245970249176], [0.09937337040901184], [0.6479724049568176], [0.01152795273810625], [0.028925223276019096], [0.017956770956516266], [0.0027380383107811213], [0.0031502647325396538], [0.08369947969913483], [0.23581071197986603], [0.001501666847616434], [0.024974865838885307], [0.0028150512371212244], [0.10619422793388367], [0.0085078664124012], [0.626005232334137], [0.454607218503952], [0.06605549901723862], [0.015128575265407562], [0.1278037279844284], [0.11311113089323044], [0.3362239599227905], [0.007777315564453602], [0.02543744631111622], [0.013359167613089085], [0.25390323996543884], [0.8641638159751892], [0.9621936678886414], [0.6505217552185059], [0.027097061276435852], [0.12845247983932495], [0.3318292796611786], [0.013837671838700771], [0.15302400290966034], [0.11600815504789352], [0.07811035960912704], [0.8416569232940674], [0.008317746222019196], [0.00634797802194953], [0.14131779968738556], [0.03549545258283615], [0.1320405900478363], [0.6555459499359131], [0.04860851168632507], [0.12570726871490479], [0.02414626255631447], [0.011770710349082947], [0.653037428855896], [0.1641717553138733], [0.0850808396935463], [0.5108162760734558], [0.0037174001336097717], [0.01223235297948122], [0.7106255888938904], [0.08283398300409317], [0.11154672503471375], [0.02351337857544422], [0.00909945834428072], [0.10481550544500351], [0.07745146751403809], [0.2597196400165558], [0.11845573782920837], [0.03357559069991112], [0.5257853865623474], [0.10822281241416931], [0.012390789575874805], [0.6001100540161133], [0.6517645716667175], [0.0036979676224291325], [0.04271968454122543], [0.41235634684562683], [0.005296200513839722], [0.6607113480567932], [0.2726011872291565], [0.7899656891822815], [0.12241774797439575], [0.6844331622123718], [0.13746371865272522], [0.2376391589641571], [0.014824513345956802], [0.15349650382995605], [0.0718328207731247], [0.0665944516658783], [0.015355016104876995], [0.01383232045918703], [0.15275418758392334], [0.007371335290372372], [0.032920386642217636], [0.4027143120765686], [0.30841320753097534], [0.3068762421607971], [0.7146041393280029], [0.012958357110619545], [0.0011493817437440157], [0.21824516355991364], [0.3779694437980652], [0.0920889601111412], [0.4994027018547058], [0.00836027693003416], [0.688209056854248], [0.00463829655200243], [0.8047183156013489], [0.022265881299972534], [0.5048278570175171], [0.18916413187980652], [0.018066847696900368], [0.14508289098739624], [0.096747986972332], [0.05151289701461792], [0.5554944276809692], [0.6733838319778442], [0.6507149338722229], [0.502795934677124], [0.5433158874511719], [0.30190154910087585], [0.10427767783403397], [0.13449357450008392], [0.17603375017642975], [0.05988634005188942], [0.41956156492233276], [0.1261431872844696], [0.6463915109634399], [0.010781290009617805], [0.26673874258995056], [0.6693322658538818], [0.08427440375089645], [0.017614057287573814], [0.15230438113212585], [0.5398046970367432], [0.01981373503804207], [0.010812745429575443], [0.061021797358989716], [0.04055067524313927], [0.14314928650856018], [0.842117190361023], [0.2797274589538574], [0.55814528465271], [0.12152839452028275], [0.0820847824215889], [0.10616325587034225], [0.6640840768814087], [0.45688435435295105], [0.39891013503074646], [0.27174675464630127], [0.17662204802036285], [0.541294276714325], [0.08937223255634308], [0.23173613846302032], [0.6085331439971924], [0.11979321390390396], [0.6586093902587891], [0.8749608993530273], [0.013029385358095169], [0.6104989051818848], [0.11321945488452911], [0.9401620030403137], [0.68285071849823], [0.02786255069077015], [0.6506918668746948], [0.9073501229286194], [0.11631761491298676], [0.8583812713623047], [0.013163617812097073], [0.014379548840224743], [0.667544960975647], [0.08017820864915848], [0.07303561270236969], [0.880070686340332], [0.002598152495920658], [0.008738888427615166], [0.021925507113337517], [0.09459459781646729], [0.2858240008354187], [0.03243051469326019], [0.07427667081356049], [0.007296467199921608], [0.9162958264350891], [0.09377540647983551], [0.5321617126464844], [0.21309952437877655], [0.41050928831100464], [0.000267964816885069], [0.03218001127243042], [0.7020249366760254], [0.5260363221168518], [0.1169029250741005], [0.07079815119504929], [0.6649719476699829], [0.09916672855615616], [0.015657000243663788], [0.10422639548778534], [0.8214793801307678], [0.10076390951871872], [0.4439879059791565], [0.78700190782547], [0.40694722533226013], [0.9052184820175171], [0.5334561467170715], [0.15284481644630432], [0.023621326312422752], [0.08292531967163086], [0.020801149308681488], [0.012467091903090477], [0.32532957196235657], [0.0755983218550682], [0.054474424570798874], [0.1965213268995285], [0.052463024854660034], [0.5386365056037903], [0.07867658883333206], [0.012388648465275764], [0.7944000363349915], [0.16268689930438995], [0.5872483253479004], [0.06698213517665863], [0.13930770754814148], [0.7341404557228088], [0.014658927917480469], [0.07282773405313492], [0.5565467476844788], [0.015260115265846252], [0.03493053466081619], [0.9199994206428528], [0.6069334745407104], [0.15360654890537262], [0.00034746353048831224], [0.5932080745697021], [0.19768834114074707], [0.3332069516181946], [0.055808547884225845], [0.10863479226827621], [0.17353403568267822], [0.029015015810728073], [0.12724849581718445], [0.02962971292436123], [0.020943041890859604], [0.009361611679196358], [0.0410553440451622], [0.15271323919296265], [0.007906938903033733], [0.020984765142202377], [0.39480534195899963], [0.028070982545614243], [0.7857187390327454], [0.4081045985221863], [0.01516677439212799], [0.0022401385940611362], [0.37824371457099915], [0.8046486377716064], [0.660926342010498], [0.04286673292517662], [0.024708721786737442], [0.02152317948639393], [0.016470588743686676], [0.6270709037780762], [0.41615670919418335], [0.14075806736946106], [0.15154147148132324], [0.5481904149055481], [0.6136261820793152], [0.6518967151641846], [0.02412543073296547], [0.10206235945224762], [0.3035590946674347], [0.8087913990020752], [0.021098453551530838], [0.650165855884552], [0.057416003197431564], [0.6597211360931396], [0.0843508318066597], [0.1386529952287674], [0.1427130550146103], [0.015537374652922153], [0.0350913405418396], [0.6405889987945557], [0.03391775116324425], [0.19836890697479248], [0.03787560388445854], [0.5642493367195129], [0.14554524421691895], [0.07094475626945496], [0.1131599098443985], [0.7437684535980225], [0.881976306438446], [0.028690600767731667], [0.014522275887429714], [0.07238419353961945], [0.6503137946128845], [0.02886347658932209], [0.028172845020890236], [0.2661517262458801], [0.1216275542974472], [0.6609818935394287], [0.0426444336771965], [0.10745323449373245], [0.08577016741037369], [0.02151394449174404], [0.6318805813789368], [0.053813088685274124], [0.11753640323877335], [0.02035653218626976], [0.1462748944759369], [0.12837080657482147], [0.003510300535708666], [0.08185537159442902], [0.33347439765930176], [0.8273215293884277], [0.4737250804901123], [0.020229522138834], [0.0569537952542305], [0.01284088660031557], [0.013048607856035233], [0.8842988610267639], [0.6376331448554993], [0.6851440668106079], [0.055003877729177475], [0.7210917472839355], [0.5396538376808167], [0.8594998717308044], [0.0376066230237484], [0.07260526716709137], [0.5118932723999023], [0.08102971315383911], [0.012915609404444695], [0.5453078746795654], [0.9304836392402649], [0.5250378251075745], [0.014171401038765907], [0.031659629195928574], [0.057416003197431564], [0.13237610459327698], [0.1255549043416977], [0.20079050958156586], [0.01534124743193388], [0.6112040281295776], [0.0361134335398674], [0.031007057055830956], [0.5458592772483826], [0.18191497027873993], [0.8456840515136719], [0.01319611445069313], [0.6301959156990051], [0.10055562853813171], [0.46467888355255127], [0.027061033993959427], [0.11414030939340591], [0.036203689873218536], [0.01809341087937355], [0.10472465306520462], [0.8215886354446411], [0.6244983077049255], [0.00031925083021633327], [0.5364211201667786], [0.248151957988739], [0.3465559184551239], [0.11582601070404053], [0.6641667485237122], [0.04615608975291252], [0.06197070702910423], [0.0022025846410542727], [0.6611045002937317], [0.053289253264665604], [0.045435722917318344], [0.3211554288864136], [0.154235377907753], [0.04831204563379288], [0.011737496592104435], [0.12459670752286911], [0.18329916894435883], [0.016045548021793365], [0.02955958992242813], [0.5833144187927246], [0.007246303837746382], [0.8915104269981384], [0.30138465762138367], [0.0900084525346756], [0.3511507511138916], [0.28063786029815674], [0.3306240737438202], [0.6212204098701477], [0.5422821640968323], [0.12964476644992828], [0.0938427522778511], [0.007986475713551044], [0.009991183876991272], [0.07892609387636185], [0.08038041740655899], [0.7573457360267639], [0.4930430054664612], [0.12340965121984482], [0.025081565603613853], [0.5608362555503845], [0.026825303211808205], [0.023220639675855637], [0.02954120561480522], [0.015047607943415642], [0.01294906996190548], [0.5123389959335327], [0.03242406249046326], [0.15989062190055847], [0.036126766353845596], [0.027848495170474052], [0.3783816993236542], [0.8215932846069336], [0.03139486536383629], [0.005416791886091232], [0.09594126045703888], [0.007714434992522001], [0.6424998641014099], [0.05238565057516098], [0.3598407804965973], [0.02066039852797985], [0.003269787644967437], [0.8952492475509644], [0.0775986760854721], [0.6259992122650146], [0.07214023172855377], [0.015219620428979397], [0.2035776972770691], [0.2697138488292694], [0.08505947887897491], [0.8931323885917664], [0.02035662904381752], [0.7353938221931458], [0.27364814281463623], [0.01424670685082674], [0.014725016430020332], [0.47370436787605286], [0.09949269145727158], [0.005698325578123331], [0.6431506276130676], [0.7738001346588135], [0.6605315208435059], [0.004647057969123125], [0.044712722301483154], [0.5670980215072632], [0.06219484284520149], [0.11638639122247696], [0.12964347004890442], [0.024947725236415863], [0.7767688035964966], [0.013754555955529213], [0.013365263119339943], [0.6508678197860718], [0.017077850177884102], [0.04841234162449837], [0.45872819423675537], [0.008107061497867107], [0.6355656981468201], [0.14302772283554077], [0.23792731761932373], [0.3839268982410431], [0.2755746841430664], [0.12018445134162903], [0.5306548476219177], [0.01666719652712345], [0.0300228763371706], [0.3721213638782501], [0.5140361189842224], [0.015849661082029343], [0.023449484258890152], [0.420868843793869], [0.04513940587639809], [0.02933439239859581], [0.6305199861526489], [0.10092606395483017], [0.08375244587659836], [0.0023285807110369205], [0.01454378105700016], [0.16818754374980927], [0.05304355174303055], [0.8072172999382019], [0.29417556524276733], [0.013515916652977467], [0.4099937677383423], [0.013487999327480793], [0.5645288825035095], [0.895599365234375], [0.2308192402124405], [0.05310776084661484], [0.10106194019317627], [0.005488219670951366], [0.12216497957706451], [0.00953812338411808], [0.005173404701054096], [0.04246499761939049], [0.03444444015622139], [0.021379252895712852], [0.01336953230202198], [0.7133044600486755], [0.09914521127939224], [0.8583559393882751], [0.030005428940057755], [0.025574879720807076], [0.2973824441432953], [0.016646284610033035], [0.6546019315719604], [0.1916537880897522], [0.06530094146728516], [0.33355483412742615], [0.6577557921409607], [0.00422327034175396], [0.5828819274902344], [0.01779978722333908], [0.7093117237091064], [0.07179687172174454], [0.005297658033668995], [0.014311052858829498], [0.012095514684915543], [0.08534566313028336], [0.08186802268028259], [0.007172613404691219], [0.011793483048677444], [0.8153465390205383], [0.3128538131713867], [0.06616034358739853], [0.11691339313983917], [0.5687666535377502], [0.02143203839659691], [0.6523431539535522], [0.08643659204244614], [0.015307014808058739], [0.14517846703529358], [0.009917130693793297], [0.6092573404312134], [0.029310479760169983], [0.00600279588252306], [0.021266650408506393], [0.04001239314675331], [0.02550458163022995], [0.0016208152519538999], [0.5359545946121216], [0.6326585412025452], [0.1776585429906845], [0.09297305345535278], [0.004089203663170338], [0.6643518209457397], [0.07478053867816925], [0.5808305144309998], [0.11533794552087784], [0.0057982951402664185], [0.11364156007766724], [0.006759047508239746], [0.06324253976345062], [0.6309747099876404], [0.02128998003900051], [0.6742069125175476], [0.02591966837644577], [0.10480457544326782], [0.17148788273334503], [0.3560797870159149], [0.02371087484061718], [0.005564749240875244], [0.012742062099277973], [0.1766900271177292], [0.4403027296066284], [0.035077352076768875], [0.05407284200191498], [0.009124196134507656], [0.05988052859902382], [0.017985450103878975], [0.040577832609415054], [0.13250786066055298], [0.05973371863365173], [0.1380331814289093], [0.5354495048522949], [0.07728251814842224], [0.07538128644227982], [0.1707233041524887], [0.02587912231683731], [0.6930172443389893], [0.02856382541358471], [0.10121328383684158], [0.03698623552918434], [0.9074039459228516], [0.16825605928897858], [0.14614321291446686], [0.1477247029542923], [0.38043680787086487], [0.028728831559419632], [0.6662905216217041], [0.012568474747240543], [0.007311796769499779], [0.017816049978137016], [0.02762160822749138], [0.26646000146865845], [0.6674471497535706], [0.20791073143482208], [0.7528364658355713], [0.46473848819732666], [0.015355016104876995], [0.02255222573876381], [0.017719540745019913], [0.15482863783836365], [0.8057880401611328], [0.2567010223865509], [0.8231253027915955], [0.6474370956420898], [0.5022616982460022], [0.003979910165071487], [0.052325136959552765], [0.15145492553710938], [0.06734427064657211], [0.14819005131721497], [0.01625789701938629], [0.019847113639116287], [0.0353689081966877], [0.0015801195986568928], [0.15585967898368835], [0.004028845112770796], [0.11673366278409958], [0.14048422873020172], [0.008368118666112423], [0.5709046721458435], [0.4293910562992096], [0.052031490951776505], [0.034301675856113434], [0.0857447162270546], [0.003829787252470851], [0.10625530034303665], [0.05604017153382301], [0.17402362823486328], [0.18946360051631927], [0.1485910564661026], [0.09095268696546555], [0.46503785252571106], [0.11356162279844284], [0.022553209215402603], [0.01834300346672535], [0.6568591594696045], [0.20147281885147095], [0.3555406630039215], [0.1924905776977539], [0.10759145766496658], [0.32541516423225403], [0.884956419467926], [0.012601826339960098], [0.2066681683063507], [0.8184363842010498], [0.8097071051597595], [0.049141570925712585], [0.06735355406999588], [0.3283531963825226], [0.025288522243499756], [0.4503665864467621], [0.3358372449874878], [0.6327317357063293], [0.05017699673771858], [0.025407958775758743], [0.09792894124984741], [0.1309930384159088], [0.5212606191635132], [0.18123936653137207], [0.014983724802732468], [0.6268726587295532], [0.12420781701803207], [0.17450475692749023], [0.012326870113611221], [0.6099309921264648], [0.12737010419368744], [0.5846444368362427], [0.7951091527938843], [0.017102083191275597], [0.00933774933218956], [0.1526760309934616], [0.011600463651120663], [0.5794790983200073], [0.3267454206943512], [0.14109881222248077], [0.3165406584739685], [0.6299129724502563], [0.7113515734672546], [0.22011509537696838], [0.9199111461639404], [0.3528488576412201], [0.011705843731760979], [0.12199226766824722], [0.40870147943496704], [0.09968484938144684], [0.4493744671344757], [0.05804598331451416], [0.7039963006973267], [0.23359990119934082], [0.044319864362478256], [0.13960044085979462], [0.788167417049408], [0.6577544808387756], [0.023000134155154228], [0.02915169857442379], [0.1584932506084442], [0.054130323231220245], [0.012303782626986504], [0.010714583098888397], [0.11097200959920883], [0.09901120513677597], [0.008606192655861378], [0.010372543707489967], [0.30261120200157166], [0.06040136516094208], [0.6291955709457397], [0.24486923217773438], [0.338260680437088], [0.11619897931814194], [0.6593164205551147], [0.8206021785736084], [0.32747769355773926], [0.6325268745422363], [0.5179269313812256], [0.785508394241333], [0.15720456838607788], [0.04069237783551216], [0.015225532464683056], [0.3737388253211975], [0.9179651141166687], [0.06537164002656937], [0.22737528383731842], [0.253753662109375], [0.26145192980766296], [0.007135338615626097], [0.26861056685447693], [0.3941255509853363], [0.3823738396167755], [0.44512203335762024], [0.08106555044651031], [0.2985572814941406], [0.6643733978271484], [0.6601974964141846], [0.8858966827392578], [0.33225855231285095], [0.33137422800064087], [0.07968565076589584], [0.018879331648349762], [0.0011402508243918419], [0.015763763338327408], [0.7882415056228638], [0.789028525352478], [0.08750015497207642], [0.04720853269100189], [0.8508175611495972], [0.06158314645290375], [0.004545675124973059], [0.02306520752608776], [0.019318759441375732], [0.366976797580719], [0.6304225325584412], [0.6332935690879822], [0.1082574650645256], [0.15574133396148682], [0.3794766068458557], [0.42977410554885864], [0.08231090754270554], [0.3280985951423645], [0.0033517961855977774], [0.05713551491498947], [0.2800639867782593], [0.31525540351867676], [0.024471022188663483], [0.6806444525718689], [0.6717801690101624], [0.08304222673177719], [0.8283053636550903], [0.13282302021980286], [0.850988507270813], [0.8168657422065735], [0.01766218990087509], [0.12964347004890442], [0.08950318396091461], [0.17248360812664032], [0.0138001823797822], [0.011278621852397919], [0.34677526354789734], [0.6188119053840637], [0.6446120142936707], [0.1342468112707138], [0.11088558286428452], [0.3963279128074646], [0.19554093480110168], [0.24815572798252106], [0.015713104978203773], [0.114801324903965], [0.005677785724401474], [0.0838608592748642], [0.03157711774110794], [0.36374735832214355], [0.9522861838340759], [0.002621002960950136], [0.03357395529747009], [0.9155363440513611], [0.043082255870103836], [0.10433963686227798], [0.09381566941738129], [0.5720212459564209], [0.6456318497657776], [0.39234307408332825], [0.02940448746085167], [0.037880171090364456], [0.6676986217498779], [0.014933766797184944], [0.021410295739769936], [0.10747663676738739], [0.1681530475616455], [0.4149266481399536], [0.006284229923039675], [0.5844733119010925], [0.11982287466526031], [0.6065816879272461], [0.015259583480656147], [0.047793909907341], [0.5864341855049133], [0.7946978807449341], [0.004739467054605484], [0.028161538764834404], [0.004148686770349741], [0.814498782157898], [0.0016721813008189201], [0.8718599081039429], [0.17519402503967285], [0.027644610032439232], [0.03233776614069939], [0.8791540265083313], [0.002971366746351123], [0.014359059743583202], [0.8000046610832214], [0.44472554326057434], [0.11326959729194641], [0.3886721432209015], [0.02722497470676899], [0.0], [0.6136831641197205], [0.030811313539743423], [0.5549164414405823], [0.018950415775179863], [0.042173657566308975], [0.03788120299577713], [0.536292552947998], [0.6362194418907166], [0.01633695513010025], [0.6571106910705566], [0.6537039279937744], [0.5411266088485718], [0.12576161324977875], [0.3689168393611908], [0.5540446639060974], [0.0973627045750618], [0.8944071531295776], [0.628189206123352], [0.48874935507774353], [0.1771697700023651], [0.489555686712265], [0.006578508298844099], [0.12212204188108444], [0.047983963042497635], [0.023808924481272697], [0.03988940268754959], [0.07134241610765457], [0.6385583877563477], [0.651710033416748], [0.9072231650352478], [0.026351122185587883], [0.6638830900192261], [0.06108233705163002], [0.013891286216676235], [0.09811108559370041], [0.6638400554656982], [0.016560669988393784], [0.014395033940672874], [0.11079028248786926], [0.004716041032224894], [0.007862716913223267], [0.0018147836672142148], [0.13238562643527985], [0.10387399047613144], [0.9381107687950134], [0.32348039746284485], [0.023869473487138748], [0.050792668014764786], [0.004579100292176008], [0.08928105980157852], [0.719444751739502], [0.001570269581861794], [0.0475451685488224], [0.277688592672348], [0.653241753578186], [0.22426001727581024], [0.644245982170105], [0.09303028136491776], [0.026075225323438644], [0.06633752584457397], [0.03556068241596222], [0.0201323963701725], [0.8484688997268677], [0.08737458288669586], [0.7230478525161743], [0.20341983437538147], [0.08187280595302582], [0.06315900385379791], [0.6489810347557068], [0.9542168378829956], [0.6452140808105469], [0.1147480309009552], [0.6078695058822632], [0.06013975292444229], [0.028617065399885178], [0.5448421835899353], [0.11171605437994003], [0.010742684826254845], [0.31088578701019287], [0.004073618911206722], [0.00464152405038476], [0.04221674054861069], [0.011463280767202377], [0.6238420605659485], [0.1698458194732666], [0.8670774102210999], [0.02396656945347786], [0.35100123286247253], [0.21309952437877655], [0.05118081718683243], [0.017587561160326004], [0.6611220836639404], [0.005746507551521063], [0.3253280818462372], [0.011107340455055237], [0.6628524661064148], [0.6053385734558105], [0.005902004428207874], [0.10975246876478195], [0.8809013366699219], [0.009847517125308514], [0.3709341883659363], [0.16835175454616547], [0.15182271599769592], [0.05510201305150986], [0.02927771583199501], [0.656709611415863], [0.03328856825828552], [0.6388675570487976], [0.6973837018013], [0.04731248691678047], [0.16765496134757996], [0.07177112996578217], [0.04882052540779114], [0.04042806103825569], [0.7568285465240479], [0.33684787154197693], [0.09891300648450851], [0.6967468857765198], [0.6139299869537354], [0.04321145638823509], [0.12630482017993927], [0.04026845470070839], [0.09635468572378159], [0.7751924991607666], [0.009412024170160294], [0.6465955376625061], [0.15644097328186035], [0.5018013119697571], [0.10183021426200867], [0.12712989747524261], [0.4312048554420471], [0.004066551104187965], [0.11173368245363235], [0.5887230634689331], [0.5836495161056519], [0.6031171679496765], [0.3118194341659546], [3.709473821800202e-05], [0.11674588173627853], [0.0326375812292099], [0.027161089703440666], [0.009136942215263844], [0.07259880006313324], [0.12142718583345413], [0.7240930795669556], [0.470726877450943], [0.02019660919904709], [0.14754502475261688], [0.39513731002807617], [0.6089434623718262], [0.14050768315792084], [0.6218287348747253], [0.8931347727775574], [0.047212351113557816], [0.6665838956832886], [0.10243143886327744], [0.33254000544548035], [0.23335431516170502], [0.11246272176504135], [0.9037691354751587], [0.002001809421926737], [0.020636316388845444], [0.012627148069441319], [0.036967676132917404], [0.05469281226396561], [0.7400309443473816], [0.33666548132896423], [0.7699130177497864], [0.008598623797297478], [0.8716563582420349], [0.5937206149101257], [0.019719883799552917], [0.6396498084068298], [0.14974598586559296], [0.09984028339385986], [0.004766866099089384], [0.05414402484893799], [0.011475207284092903], [0.009687711484730244], [0.027176715433597565], [0.024237345904111862], [0.44191139936447144], [0.003358511719852686], [0.08052434772253036], [0.036381930112838745], [0.037938572466373444], [0.49206972122192383], [0.03550030291080475], [0.2954755425453186], [0.30841320753097534], [0.1217786893248558], [0.10834567993879318], [0.0019210799364373088], [0.8276687860488892], [0.344390869140625], [0.08770804107189178], [0.049825068563222885], [0.02396237663924694], [0.02266300655901432], [0.6558684706687927], [0.37829074263572693], [0.14899395406246185], [0.006067296024411917], [0.02681642211973667], [0.0012146817753091455], [0.003177813021466136], [0.062864288687706], [0.5895590782165527], [0.1371997594833374], [0.10284394770860672], [0.5505720973014832], [0.013700297102332115], [0.4046950936317444], [0.6279786825180054], [0.3900468945503235], [0.01816386915743351], [0.2837161123752594], [0.6586892604827881], [0.6693680882453918], [0.7795128226280212], [0.03973213955760002], [0.8381327986717224], [0.8718599081039429], [0.01490881759673357], [0.06433598697185516], [0.038481369614601135], [0.3610771894454956], [0.04045488312840462], [0.004796808119863272], [0.0024530307855457067], [0.6517716646194458], [0.8718411326408386], [0.052183061838150024], [0.05920054018497467], [0.11822022497653961], [0.009247752837836742], [0.03411314636468887], [0.6475021839141846], [0.12473583966493607], [0.32465609908103943], [0.004808663856238127], [0.01593129336833954], [0.6594691872596741], [0.15488050878047943], [0.0036920031998306513], [0.08260785788297653], [0.8248753547668457], [0.33737242221832275], [0.5679419636726379], [0.19877374172210693], [0.06232212856411934], [0.25204917788505554], [0.5395814180374146], [0.8472083210945129], [0.009137524291872978], [0.01358840987086296], [0.3822706639766693], [0.5351784825325012], [0.7528260350227356], [0.09566475450992584], [0.10554875433444977], [0.04239528998732567], [0.48262548446655273], [0.09621357172727585], [0.6697390079498291], [0.04104732722043991], [0.007519209757447243], [0.036057282239198685], [0.6633313894271851], [0.024432940408587456], [0.20828963816165924], [0.30132389068603516], [0.1218675822019577], [0.0736856758594513], [0.49610239267349243], [0.1497526317834854], [0.08861774206161499], [0.05012666806578636], [0.11814621090888977], [0.11890175193548203], [0.009145306423306465], [0.25228551030158997], [0.05835893005132675], [0.5276140570640564], [0.878227710723877], [0.02796623669564724], [0.04143384471535683], [0.5272830724716187], [0.8729321360588074], [0.05519048497080803], [0.398387610912323], [0.0696343332529068], [0.01424376294016838], [0.636651873588562], [0.10378307104110718], [0.6221631765365601], [0.41095080971717834], [0.6884363293647766], [0.35304397344589233], [0.027027027681469917], [0.10609284788370132], [0.46609053015708923], [0.006758145522326231], [0.01567716896533966], [0.14946027100086212], [0.01121241319924593], [0.017313152551651], [0.017779100686311722], [0.13326436281204224], [0.110166996717453], [0.19322361052036285], [0.030839236453175545], [0.3277409076690674], [0.0509737990796566], [0.6188137531280518], [0.02582312934100628], [0.09436012804508209], [0.5763800740242004], [0.2229449450969696], [0.0004891171702183783], [0.9103675484657288], [0.03785140812397003], [0.13960056006908417], [0.6243987679481506], [0.8934621810913086], [0.6185147762298584], [0.07978145778179169], [0.16060182452201843], [0.02478216215968132], [0.6858364939689636], [0.5884017944335938], [0.011660294607281685], [0.5803616046905518], [0.0777265727519989], [0.7901265025138855], [0.010391817428171635], [0.4547465443611145], [0.03121737390756607], [0.0686153769493103], [0.5246687531471252], [0.04115814343094826], [0.012075668200850487], [0.012443792074918747], [0.5247350335121155], [0.09922132641077042], [0.6618480086326599], [0.9100542664527893], [0.5425471663475037], [0.6180709600448608], [0.7352168560028076], [0.5570356249809265], [0.042225807905197144], [0.8807637691497803], [0.43244656920433044], [0.006248245947062969], [0.5256754159927368], [0.19634376466274261], [0.05727086961269379], [0.18271073698997498], [0.05390821397304535], [0.6573812365531921], [0.06513000279664993], [0.07711233198642731], [0.7009799480438232], [0.03057839721441269], [0.7459485530853271], [0.3222086429595947], [0.3400741219520569], [0.0013980286894366145], [0.6990277171134949], [0.3378713130950928], [0.11066915094852448], [0.04773104190826416], [0.06620988249778748], [0.40109631419181824], [0.40303996205329895], [0.014704005792737007], [0.11765512079000473], [0.4617251753807068], [0.005460095126181841], [0.40027838945388794], [0.00316190836019814], [0.012689121998846531], [0.09656576812267303], [0.017038844525814056], [0.8382307887077332], [0.0010153980692848563], [0.01781483180820942], [0.023436734452843666], [0.0046150051057338715], [0.07348154485225677], [0.1305852234363556], [0.33817607164382935], [0.05547647550702095], [0.015068205073475838], [0.16673944890499115], [0.07930467277765274], [0.23860366642475128], [0.33985698223114014], [0.7797286510467529], [0.5335609316825867], [0.018298696726560593], [0.6562477946281433], [0.025020932778716087], [0.18390414118766785], [0.7953073382377625], [0.08798496425151825], [0.0007149598095566034], [0.2392006665468216], [0.14865592122077942], [0.34064996242523193], [0.0011922549456357956], [0.009846080094575882], [0.41662660241127014], [0.00562320277094841], [0.6309623122215271], [0.8099841475486755], [0.006714276038110256], [0.7197083234786987], [0.11717846244573593], [0.1299002319574356], [0.02085890993475914], [0.0018672820879146457], [0.6572427153587341], [0.8139813542366028], [0.4075043499469757], [0.13090360164642334], [0.1269311010837555], [0.086925208568573], [0.005276527721434832], [0.01927494816482067], [0.00437298184260726], [0.12098163366317749], [0.28334712982177734], [0.028588173910975456], [0.4228034019470215], [0.010216615162789822], [0.5026939511299133], [0.09420020878314972], [0.8365463614463806], [0.08209850639104843], [0.00961250439286232], [0.0015601457562297583], [0.1515185832977295], [0.06763018667697906], [0.0168656874448061], [0.1143529862165451], [0.681155800819397], [0.0006942983600310981], [0.1512618213891983], [0.40571150183677673], [0.9329646825790405], [0.02762562781572342], [0.017495732754468918], [0.03717279061675072], [0.5151098966598511], [0.5557775497436523], [0.659229576587677], [0.04459134116768837], [0.1332319974899292], [0.8653892874717712], [0.07029923796653748], [0.027040110900998116], [0.23659612238407135], [0.637611985206604], [0.13129806518554688], [0.8787484765052795], [0.009838924743235111], [0.008553486317396164], [0.04752584919333458], [0.0028402525931596756], [0.7078746557235718], [0.39197850227355957], [0.18776676058769226], [0.12094271928071976], [0.05216816067695618], [0.037265338003635406], [0.5366411805152893], [0.02737293392419815], [0.05935635045170784], [0.07812096923589706], [0.5149732828140259], [0.6419855356216431], [0.2562609910964966], [0.3341887593269348], [0.21780486404895782], [0.5246323347091675], [0.8741156458854675], [0.045750223100185394], [0.5528032779693604], [0.683387279510498], [0.5663154125213623], [0.09890315681695938], [0.12163817137479782], [0.567635178565979], [0.39169082045555115], [0.17434443533420563], [0.02446982078254223], [0.16540639102458954], [0.010588235221803188], [0.04314035177230835], [0.009054620750248432], [0.030277803540229797], [0.06440684199333191], [0.844645619392395], [0.03290295600891113], [0.22897787392139435], [0.17506280541419983], [0.8053163886070251], [0.29078006744384766], [0.1510099470615387], [0.009166399016976357], [0.3046184182167053], [0.5695003867149353], [0.039483245462179184], [0.004096380900591612], [0.26709380745887756], [0.25761136412620544], [0.11811982095241547], [0.020413829013705254], [0.022045807912945747], [0.03398586064577103], [0.8735867142677307], [0.6820045709609985], [0.039358120411634445]]\n"
     ]
    }
   ],
   "source": [
    "# Initialize an empty list to store values from the specific column\n",
    "y_test = []\n",
    "\n",
    "# Iterate over the dataset and collect values from the specific column\n",
    "for _, label_batch in test_ds:\n",
    "    # You can access the values and append them to the list\n",
    "    y_test.extend(label_batch.numpy().tolist())  # Assuming the tensor values are numeric\n",
    "\n",
    "# Print all the collected values from the specific column\n",
    "print(y_test)"
   ]
  },
  {
   "cell_type": "code",
   "execution_count": 18,
   "metadata": {},
   "outputs": [
    {
     "name": "stdout",
     "output_type": "stream",
     "text": [
      "115/115 [==============================] - 55s 475ms/step\n"
     ]
    }
   ],
   "source": [
    "# Make predictions on new data\n",
    "y_pred = model.predict(test_ds)"
   ]
  },
  {
   "cell_type": "code",
   "execution_count": 19,
   "metadata": {},
   "outputs": [],
   "source": [
    "assert len(y_test) == len(y_pred)"
   ]
  },
  {
   "cell_type": "code",
   "execution_count": 20,
   "metadata": {},
   "outputs": [],
   "source": [
    "from sklearn import metrics\n",
    "import numpy as np"
   ]
  },
  {
   "cell_type": "code",
   "execution_count": 21,
   "metadata": {},
   "outputs": [
    {
     "name": "stdout",
     "output_type": "stream",
     "text": [
      "Mean Absolute Error: 0.2371594837000527\n",
      "Mean Squared Error: 0.0769333454192602\n",
      "Root Mean Squared Error: 0.2773686092896242\n",
      "R-squared: 0.03438987722382025\n"
     ]
    }
   ],
   "source": [
    "# evaluate predictions\n",
    "mae = metrics.mean_absolute_error(y_test, y_pred)\n",
    "mse = metrics.mean_squared_error(y_test, y_pred)\n",
    "rmse = np.sqrt(mse)\n",
    "r2_score = metrics.r2_score(y_test, y_pred)\n",
    "\n",
    "print(\"Mean Absolute Error:\", mae)\n",
    "print(\"Mean Squared Error:\", mse)\n",
    "print(\"Root Mean Squared Error:\", rmse)\n",
    "print(\"R-squared:\", r2_score)"
   ]
  },
  {
   "cell_type": "markdown",
   "metadata": {},
   "source": [
    "Results 1:\n",
    "Mean Absolute Error: 0.24973654225704806\n",
    "Mean Squared Error: 0.08511214794397967\n",
    "Root Mean Squared Error: 0.2917398634811151\n",
    "R-squared: -0.007319673255404835\n",
    "\n",
    "Results 2: (25% data total, 170m runtime, 35 epochs, 12 patience)\n",
    "Mean Absolute Error: 0.2371594837000527\n",
    "Mean Squared Error: 0.0769333454192602\n",
    "Root Mean Squared Error: 0.2773686092896242\n",
    "R-squared: 0.03438987722382025"
   ]
  }
 ],
 "metadata": {
  "kernelspec": {
   "display_name": "Deep_Solar_Eye",
   "language": "python",
   "name": "python3"
  },
  "language_info": {
   "codemirror_mode": {
    "name": "ipython",
    "version": 3
   },
   "file_extension": ".py",
   "mimetype": "text/x-python",
   "name": "python",
   "nbconvert_exporter": "python",
   "pygments_lexer": "ipython3",
   "version": "3.10.6"
  }
 },
 "nbformat": 4,
 "nbformat_minor": 2
}
