{
 "cells": [
  {
   "cell_type": "markdown",
   "metadata": {},
   "source": [
    "Replica of Google Colab NB that runs training.\\\n",
    "__Requires mask-rcnn to run__"
   ]
  },
  {
   "cell_type": "code",
   "execution_count": 28,
   "metadata": {},
   "outputs": [],
   "source": [
    "import sys\n",
    "sys.path.append('..')"
   ]
  },
  {
   "cell_type": "code",
   "execution_count": 30,
   "metadata": {},
   "outputs": [],
   "source": [
    "import os\n",
    "import json\n",
    "from numpy import zeros, asarray\n",
    "\n",
    "import mrcnn.utils\n",
    "import mrcnn.config\n",
    "import mrcnn.model\n"
   ]
  },
  {
   "cell_type": "code",
   "execution_count": 32,
   "metadata": {},
   "outputs": [],
   "source": [
    "# create class and for Dataset, masks, config\n",
    "class SolarDataset(mrcnn.utils.Dataset):\n",
    "    def load_dataset(self, dataset_dir, dataset_type='train'):\n",
    "        \"\"\"\n",
    "        Load the dataset from the specified directory and dataset type (train, val, test).\n",
    "        \"\"\"\n",
    "        # Register the classes\n",
    "        self.add_class(\"dataset\", 1, \"solar_panel\")\n",
    "        self.add_class(\"dataset\", 2, \"soil\")\n",
    "\n",
    "        assert dataset_type in ['train', 'val', 'test'], \"dataset_type must be one of: train, val, test\"\n",
    "\n",
    "        base_dir = os.path.join(dataset_dir, dataset_type)\n",
    "\n",
    "        images_dir = os.path.join(base_dir, 'images')\n",
    "        annotations_dir = os.path.join(base_dir, 'annots')\n",
    "\n",
    "        # Iterate through all files in the images directory\n",
    "        for filename in os.listdir(images_dir):\n",
    "            # Image ID is the filename without the file extension\n",
    "            image_id = filename[:-4]\n",
    "\n",
    "            img_path = os.path.join(images_dir, filename)\n",
    "            ann_path = os.path.join(annotations_dir, f\"{image_id}_bboxes.json\")\n",
    "\n",
    "            self.add_image('dataset', image_id=image_id, path=img_path, annotation=ann_path)\n",
    "\n",
    "    def load_mask(self, image_id):\n",
    "        \"\"\"\n",
    "        Generate masks for each instance in the image based on JSON annotations.\n",
    "        \"\"\"\n",
    "        info = self.image_info[image_id]\n",
    "        path = info['annotation']\n",
    "        boxes, class_ids, h, w = self.extract_boxes(path)\n",
    "\n",
    "        masks = zeros([h, w, len(boxes)], dtype='uint8')\n",
    "\n",
    "        for i, box in enumerate(boxes):\n",
    "            row_s, row_e = box[1], box[3]\n",
    "            col_s, col_e = box[0], box[2]\n",
    "            masks[row_s:row_e, col_s:col_e, i] = 1\n",
    "\n",
    "        return masks, asarray(class_ids, dtype='int32')\n",
    "\n",
    "    def extract_boxes(self, filename):\n",
    "        \"\"\"\n",
    "        Extract bounding boxes and class IDs from JSON annotation file.\n",
    "        \"\"\"\n",
    "        with open(filename) as f:\n",
    "            data = json.load(f)\n",
    "\n",
    "        image_dimensions = data[\"image_dimensions\"]\n",
    "        height, width = image_dimensions[\"height\"], image_dimensions[\"width\"]\n",
    "\n",
    "        boxes = []\n",
    "        class_ids = []\n",
    "        for item in data[\"objects\"]:\n",
    "            label = item['label']\n",
    "            if label in ['solar_panel', 'soil']:\n",
    "                bbox = item['bbox']\n",
    "                boxes.append([bbox[0], bbox[1], bbox[2], bbox[3]])\n",
    "                class_ids.append(self.class_names.index(label))\n",
    "\n",
    "        return boxes, class_ids, height, width\n",
    "\n",
    "class SolarConfig(mrcnn.config.Config):\n",
    "  NUM_CLASSES = 1 + 2\n",
    "  GPU_COUNT = 1\n",
    "  IMAGES_PER_GPU = 1\n",
    "  def __init__(self):\n",
    "      super().__init__()\n",
    "      self.train_images_dir = '../RCNN_Masks/train/images'\n",
    "      self.NAME = \"solar_cfg\"\n",
    "      self.num_train_images = len([name for name in os.listdir(self.train_images_dir) if os.path.isfile(os.path.join(self.train_images_dir, name))])\n",
    "      self.STEPS_PER_EPOCH = self.num_train_images // self.IMAGES_PER_GPU  # Adjust based on your actual number of images in the training set"
   ]
  },
  {
   "cell_type": "code",
   "execution_count": 33,
   "metadata": {},
   "outputs": [],
   "source": [
    "# Train\n",
    "train_dataset = SolarDataset()\n",
    "train_dataset.load_dataset(dataset_dir='../RCNN_Masks/', dataset_type='train')\n",
    "train_dataset.prepare()"
   ]
  },
  {
   "cell_type": "code",
   "execution_count": 34,
   "metadata": {},
   "outputs": [],
   "source": [
    "# Validation\n",
    "validation_dataset = SolarDataset()\n",
    "validation_dataset.load_dataset(dataset_dir='../RCNN_Masks/', dataset_type='val')\n",
    "validation_dataset.prepare()\n",
    "\n",
    "# Model Configuration\n",
    "solar_config = SolarConfig()\n",
    "solar_config.display()"
   ]
  },
  {
   "cell_type": "code",
   "execution_count": 35,
   "metadata": {},
   "outputs": [
    {
     "name": "stdout",
     "output_type": "stream",
     "text": [
      "\n",
      "Configurations:\n",
      "BACKBONE                       resnet101\n",
      "BACKBONE_STRIDES               [4, 8, 16, 32, 64]\n",
      "BATCH_SIZE                     2\n",
      "BBOX_STD_DEV                   [0.1 0.1 0.2 0.2]\n",
      "COMPUTE_BACKBONE_SHAPE         None\n",
      "DETECTION_MAX_INSTANCES        35\n",
      "DETECTION_MIN_CONFIDENCE       0.7\n",
      "DETECTION_NMS_THRESHOLD        0.3\n",
      "FPN_CLASSIF_FC_LAYERS_SIZE     1024\n",
      "GPU_COUNT                      0\n",
      "GRADIENT_CLIP_NORM             5.0\n",
      "IMAGES_PER_GPU                 1\n",
      "IMAGE_CHANNEL_COUNT            3\n",
      "IMAGE_MAX_DIM                  1024\n",
      "IMAGE_META_SIZE                13\n",
      "IMAGE_MIN_DIM                  1024\n",
      "IMAGE_MIN_SCALE                0\n",
      "IMAGE_RESIZE_MODE              square\n",
      "IMAGE_SHAPE                    [1024 1024    3]\n",
      "LEARNING_MOMENTUM              0.9\n",
      "LEARNING_RATE                  0.001\n",
      "LOSS_WEIGHTS                   {'rpn_class_loss': 1.0, 'rpn_bbox_loss': 1.0, 'mrcnn_class_loss': 1.0, 'mrcnn_bbox_loss': 1.0, 'mrcnn_mask_loss': 1.0}\n",
      "MASK_POOL_SIZE                 14\n",
      "MASK_SHAPE                     [28, 28]\n",
      "MAX_GT_INSTANCES               100\n",
      "MEAN_PIXEL                     [123.7 116.8 103.9]\n",
      "MINI_MASK_SHAPE                (56, 56)\n",
      "NAME                           solar_cfg\n",
      "NUM_CLASSES                    3\n",
      "POOL_SIZE                      7\n",
      "POST_NMS_ROIS_INFERENCE        1000\n",
      "POST_NMS_ROIS_TRAINING         2000\n",
      "PRE_NMS_LIMIT                  6000\n",
      "ROI_POSITIVE_RATIO             0.33\n",
      "RPN_ANCHOR_RATIOS              [0.5, 1, 2]\n",
      "RPN_ANCHOR_SCALES              (32, 64, 128, 256, 512)\n",
      "RPN_ANCHOR_STRIDE              1\n",
      "RPN_BBOX_STD_DEV               [0.1 0.1 0.2 0.2]\n",
      "RPN_NMS_THRESHOLD              0.7\n",
      "RPN_TRAIN_ANCHORS_PER_IMAGE    256\n",
      "STEPS_PER_EPOCH                273\n",
      "TOP_DOWN_PYRAMID_SIZE          256\n",
      "TRAIN_BN                       False\n",
      "TRAIN_ROIS_PER_IMAGE           200\n",
      "USE_MINI_MASK                  False\n",
      "USE_RPN_ROIS                   True\n",
      "VALIDATION_STEPS               10\n",
      "WEIGHT_DECAY                   0.0001\n",
      "num_train_images               273\n",
      "train_images_dir               /Users/peterbitman/Desktop/Deep_Solar_Eye/raw_data/RCNN_Masks/train/images\n",
      "\n",
      "\n"
     ]
    }
   ],
   "source": [
    "solar_config.display()"
   ]
  },
  {
   "cell_type": "code",
   "execution_count": 36,
   "metadata": {},
   "outputs": [],
   "source": [
    "# Build the Mask R-CNN Model Architecture\n",
    "model = mrcnn.model.MaskRCNN(mode='training', model_dir='./', config=solar_config)"
   ]
  },
  {
   "cell_type": "markdown",
   "metadata": {},
   "source": [
    "__Training Cycle on Heads__"
   ]
  },
  {
   "cell_type": "code",
   "execution_count": null,
   "metadata": {},
   "outputs": [],
   "source": [
    "model.load_weights(filepath='mask_rcnn_coco.h5', by_name=True,\n",
    "                   exclude=[\"mrcnn_class_logits\", \"mrcnn_bbox_fc\", \"mrcnn_bbox\", \"mrcnn_mask\"])\n",
    "\n",
    "model.train(train_dataset=train_dataset,\n",
    "            val_dataset=validation_dataset,\n",
    "            learning_rate=solar_config.LEARNING_RATE,\n",
    "            epochs=1,\n",
    "            layers='heads')\n",
    "\n",
    "model_path = 'Solar_mask_rcnn_trained.h5'\n",
    "model.keras_model.save_weights(model_path)"
   ]
  },
  {
   "cell_type": "markdown",
   "metadata": {},
   "source": [
    "__Full Training Cycle__"
   ]
  },
  {
   "cell_type": "code",
   "execution_count": null,
   "metadata": {},
   "outputs": [],
   "source": [
    "model.train(train_dataset=train_dataset,\n",
    "            val_dataset=validation_dataset,\n",
    "            learning_rate=solar_config.LEARNING_RATE / 10,\n",
    "            epochs=2,\n",
    "            layers='all')\n",
    "\n",
    "model_path = 'Solar_mask_rcnn_trained_all.h5'\n",
    "model.keras_model.save_weights(model_path)"
   ]
  }
 ],
 "metadata": {
  "kernelspec": {
   "display_name": "Deep_Solar_Eye",
   "language": "python",
   "name": "python3"
  },
  "language_info": {
   "codemirror_mode": {
    "name": "ipython",
    "version": 3
   },
   "file_extension": ".py",
   "mimetype": "text/x-python",
   "name": "python",
   "nbconvert_exporter": "python",
   "pygments_lexer": "ipython3",
   "version": "3.10.6"
  }
 },
 "nbformat": 4,
 "nbformat_minor": 2
}
