{
 "cells": [
  {
   "cell_type": "code",
   "execution_count": 9,
   "metadata": {},
   "outputs": [],
   "source": [
    "import pandas as pd\n",
    "import numpy as np\n",
    "import regex as re\n",
    "import os\n",
    "import cv2\n",
    "from datetime import datetime"
   ]
  },
  {
   "cell_type": "code",
   "execution_count": 10,
   "metadata": {},
   "outputs": [],
   "source": [
    "def preprocess_data(size=('full', 'noon')):\n",
    "    \"\"\"\n",
    "    Preprocesses images from file. Returns metadata in a dataframe, and a np array of image data.\n",
    "    Use\n",
    "    \"\"\"\n",
    "\n",
    "    folder_path = \"raw_data/PanelImages\"\n",
    "    image_data = []  # List to store image data\n",
    "    metadata = []\n",
    "    # Regular expression pattern to extract date and intensity values from the filename\n",
    "\n",
    "    # capped at 1000 for now\n",
    "    for filename in os.listdir(folder_path):\n",
    "\n",
    "        split_name = filename.split('_')\n",
    "        hour = split_name[4]\n",
    "        if size == 'noon' and hour != '12':\n",
    "            continue\n",
    "        weekday = split_name[1]\n",
    "        month = split_name[2]\n",
    "        day = split_name[3]\n",
    "        minute = split_name[6]\n",
    "        second = split_name[8]\n",
    "        year = split_name[9]\n",
    "        datetime_obj = datetime.strptime(f\"{month} {day} {year} {hour}:{minute}:{second}\", \"%b %d %Y %H:%M:%S\")\n",
    "        age_loss = split_name[11]\n",
    "        irradiance_level = split_name[13][:-4]\n",
    "\n",
    "        # append metadata to list\n",
    "        filename_info = [month, weekday, day, hour, minute, second, year, datetime_obj, age_loss, irradiance_level]\n",
    "        metadata.append(filename_info)\n",
    "\n",
    "        file_path = os.path.join(folder_path, filename)\n",
    "\n",
    "        # Load the image using OpenCV\n",
    "        image = cv2.imread(file_path)\n",
    "\n",
    "        # Convert the image to a numpy array (tensor)\n",
    "        # OpenCV loads images in BGR format by default, this convert to RGB\n",
    "        image_array = cv2.cvtColor(image, cv2.COLOR_BGR2RGB)\n",
    "        image_array.append(image_array)\n",
    "\n",
    "        filename_info.append(image_array)\n",
    "        image_data.append(filename_info)\n",
    "\n",
    "\n",
    "        # Convert the list of tuples to a pandas DataFrame\n",
    "    df = pd.DataFrame(image_data, columns=['Month', 'Day', 'Date', 'Hour', 'Minute', 'Second', 'Year',\n",
    "                                        'Datetime', 'Percent Age Loss', 'Irradiance Level'])\n",
    "\n",
    "    df = df.astype({'Month': str, 'Day': str, 'Date': int, 'Hour': int, 'Minute': int, 'Second': int, 'Year': int,\n",
    "                                       'Datetime': 'datetime64[ns]', 'Percentage Loss': float, 'Irradiance Level': float})\n",
    "\n",
    "    return df, image_data"
   ]
  },
  {
   "cell_type": "code",
   "execution_count": 11,
   "metadata": {},
   "outputs": [
    {
     "ename": "FileNotFoundError",
     "evalue": "[Errno 2] No such file or directory: 'raw_data/PanelImages'",
     "output_type": "error",
     "traceback": [
      "\u001b[0;31m---------------------------------------------------------------------------\u001b[0m",
      "\u001b[0;31mFileNotFoundError\u001b[0m                         Traceback (most recent call last)",
      "Cell \u001b[0;32mIn[11], line 1\u001b[0m\n\u001b[0;32m----> 1\u001b[0m \u001b[43mpreprocess_data\u001b[49m\u001b[43m(\u001b[49m\u001b[38;5;124;43m'\u001b[39;49m\u001b[38;5;124;43mnoon\u001b[39;49m\u001b[38;5;124;43m'\u001b[39;49m\u001b[43m)\u001b[49m\n",
      "Cell \u001b[0;32mIn[10], line 13\u001b[0m, in \u001b[0;36mpreprocess_data\u001b[0;34m(size)\u001b[0m\n\u001b[1;32m      9\u001b[0m metadata \u001b[38;5;241m=\u001b[39m []\n\u001b[1;32m     10\u001b[0m \u001b[38;5;66;03m# Regular expression pattern to extract date and intensity values from the filename\u001b[39;00m\n\u001b[1;32m     11\u001b[0m \n\u001b[1;32m     12\u001b[0m \u001b[38;5;66;03m# capped at 1000 for now\u001b[39;00m\n\u001b[0;32m---> 13\u001b[0m \u001b[38;5;28;01mfor\u001b[39;00m filename \u001b[38;5;129;01min\u001b[39;00m \u001b[43mos\u001b[49m\u001b[38;5;241;43m.\u001b[39;49m\u001b[43mlistdir\u001b[49m\u001b[43m(\u001b[49m\u001b[43mfolder_path\u001b[49m\u001b[43m)\u001b[49m:\n\u001b[1;32m     15\u001b[0m     split_name \u001b[38;5;241m=\u001b[39m filename\u001b[38;5;241m.\u001b[39msplit(\u001b[38;5;124m'\u001b[39m\u001b[38;5;124m_\u001b[39m\u001b[38;5;124m'\u001b[39m)\n\u001b[1;32m     16\u001b[0m     hour \u001b[38;5;241m=\u001b[39m split_name[\u001b[38;5;241m4\u001b[39m]\n",
      "\u001b[0;31mFileNotFoundError\u001b[0m: [Errno 2] No such file or directory: 'raw_data/PanelImages'"
     ]
    }
   ],
   "source": [
    "preprocess_data('noon')"
   ]
  }
 ],
 "metadata": {
  "kernelspec": {
   "display_name": "Deep_Solar_Eye",
   "language": "python",
   "name": "python3"
  },
  "language_info": {
   "codemirror_mode": {
    "name": "ipython",
    "version": 3
   },
   "file_extension": ".py",
   "mimetype": "text/x-python",
   "name": "python",
   "nbconvert_exporter": "python",
   "pygments_lexer": "ipython3",
   "version": "3.10.6"
  }
 },
 "nbformat": 4,
 "nbformat_minor": 2
}
