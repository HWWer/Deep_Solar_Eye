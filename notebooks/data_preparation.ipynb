{
 "cells": [
  {
   "cell_type": "code",
   "execution_count": 9,
   "metadata": {},
   "outputs": [],
   "source": [
    "import pandas as pd\n",
    "import numpy as np\n",
    "import regex as re\n",
    "import os\n",
    "import cv2\n",
    "from datetime import datetime"
   ]
  },
  {
   "cell_type": "code",
   "execution_count": 78,
   "metadata": {},
   "outputs": [],
   "source": [
    "def preprocess_data(size=('full', 'noon')):\n",
    "    \"\"\"\n",
    "    Preprocesses images from file. Returns metadata in a dataframe, and a np array of image data.\n",
    "    Use\n",
    "    \"\"\"\n",
    "\n",
    "    folder_path = \"../raw_data/PanelImages\"\n",
    "    image_data = [] # initialise an empty array to stack the images\n",
    "    metadata = []\n",
    "    # Regular expression pattern to extract date and intensity values from the filename\n",
    "\n",
    "    # capped at 1000 for now\n",
    "    for filename in os.listdir(folder_path):\n",
    "        split_name = filename.split('_')\n",
    "        hour = split_name[4]\n",
    "        if size == 'noon' and hour != '12':\n",
    "            continue\n",
    "        weekday = split_name[1]\n",
    "        month = split_name[2]\n",
    "        day = split_name[3]\n",
    "        minute = split_name[6]\n",
    "        second = split_name[8]\n",
    "        year = split_name[9]\n",
    "        datetime_obj = datetime.strptime(f\"{month} {day} {year} {hour}:{minute}:{second}\", \"%b %d %Y %H:%M:%S\")\n",
    "        age_loss = split_name[11]\n",
    "        irradiance_level = split_name[13][:-4]\n",
    "\n",
    "        # append metadata to list\n",
    "        filename_info = [month, weekday, day, hour, minute, second, year, datetime_obj, age_loss, irradiance_level]\n",
    "\n",
    "        metadata.append(filename_info)\n",
    "\n",
    "        file_path = os.path.join(folder_path, filename)\n",
    "\n",
    "        # Load the image using OpenCV\n",
    "        image = cv2.imread(file_path)\n",
    "\n",
    "        # Resize the image to 224x224 using bilinear interpolation - OPTION to save the resized images so this never is done again!\n",
    "        resized_image = cv2.resize(image, (224, 224), interpolation=cv2.INTER_LINEAR)\n",
    "\n",
    "        # Convert the image to a numpy array (tensor)\n",
    "        # OpenCV loads images in BGR format by default, this convert to RGB\n",
    "        image_array = cv2.cvtColor(resized_image, cv2.COLOR_BGR2RGB)\n",
    "        image_data.append(image_array)\n",
    "\n",
    "    # Convert the list of tuples to a pandas DataFrame\n",
    "    df = pd.DataFrame(metadata, columns=['Month', 'Day', 'Date', 'Hour', 'Minute', 'Second', 'Year',\n",
    "                                        'Datetime', 'Percentage Loss', 'Irradiance Level'])\n",
    "\n",
    "    df = df.astype({'Month': str, 'Day': str, 'Date': int, 'Hour': int, 'Minute': int, 'Second': int, 'Year': int,\n",
    "                                       'Datetime': 'datetime64[ns]', 'Percentage Loss': float, 'Irradiance Level': float})\n",
    "\n",
    "    # convert image data to numpy arrays\n",
    "    image_data = np.array(image_data)\n",
    "    # normalize the image data\n",
    "    image_data = image_data / 255.0\n",
    "\n",
    "    # return metadata and normalized image data\n",
    "    return df, image_data"
   ]
  },
  {
   "cell_type": "code",
   "execution_count": 79,
   "metadata": {},
   "outputs": [],
   "source": [
    "df, image_data = preprocess_data('noon')"
   ]
  },
  {
   "cell_type": "code",
   "execution_count": 80,
   "metadata": {},
   "outputs": [
    {
     "data": {
      "text/plain": [
       "(3736, 10)"
      ]
     },
     "execution_count": 80,
     "metadata": {},
     "output_type": "execute_result"
    }
   ],
   "source": [
    "df.shape"
   ]
  },
  {
   "cell_type": "code",
   "execution_count": 81,
   "metadata": {},
   "outputs": [
    {
     "data": {
      "text/plain": [
       "(3736, 224, 224, 3)"
      ]
     },
     "execution_count": 81,
     "metadata": {},
     "output_type": "execute_result"
    }
   ],
   "source": [
    "image_data.shape"
   ]
  },
  {
   "cell_type": "code",
   "execution_count": 82,
   "metadata": {},
   "outputs": [
    {
     "data": {
      "text/plain": [
       "array([[[181, 220, 235],\n",
       "        [181, 220, 235],\n",
       "        [181, 220, 234],\n",
       "        ...,\n",
       "        [ 85, 101, 128],\n",
       "        [104, 121, 149],\n",
       "        [ 85, 102, 130]],\n",
       "\n",
       "       [[181, 220, 235],\n",
       "        [180, 219, 234],\n",
       "        [180, 220, 233],\n",
       "        ...,\n",
       "        [ 94, 109, 138],\n",
       "        [ 92, 110, 138],\n",
       "        [ 78,  95, 123]],\n",
       "\n",
       "       [[180, 219, 234],\n",
       "        [180, 219, 234],\n",
       "        [180, 219, 233],\n",
       "        ...,\n",
       "        [ 97, 112, 142],\n",
       "        [ 85, 102, 132],\n",
       "        [ 73,  90, 119]],\n",
       "\n",
       "       ...,\n",
       "\n",
       "       [[110, 108,  96],\n",
       "        [110, 108,  96],\n",
       "        [114, 111,  99],\n",
       "        ...,\n",
       "        [ 44,  44,  42],\n",
       "        [ 46,  46,  44],\n",
       "        [ 59,  59,  57]],\n",
       "\n",
       "       [[113, 111,  98],\n",
       "        [113, 111,  98],\n",
       "        [116, 113, 100],\n",
       "        ...,\n",
       "        [ 42,  42,  39],\n",
       "        [ 61,  60,  59],\n",
       "        [119, 118, 116]],\n",
       "\n",
       "       [[115, 113, 100],\n",
       "        [115, 113, 100],\n",
       "        [115, 112, 100],\n",
       "        ...,\n",
       "        [ 54,  54,  52],\n",
       "        [107, 106, 104],\n",
       "        [195, 194, 192]]], dtype=uint8)"
      ]
     },
     "execution_count": 82,
     "metadata": {},
     "output_type": "execute_result"
    }
   ],
   "source": [
    "image_data[0]"
   ]
  },
  {
   "cell_type": "code",
   "execution_count": 83,
   "metadata": {},
   "outputs": [],
   "source": [
    "image_data = image_data/255.0"
   ]
  },
  {
   "cell_type": "code",
   "execution_count": 84,
   "metadata": {},
   "outputs": [
    {
     "data": {
      "text/plain": [
       "array([[[0.70980392, 0.8627451 , 0.92156863],\n",
       "        [0.70980392, 0.8627451 , 0.92156863],\n",
       "        [0.70980392, 0.8627451 , 0.91764706],\n",
       "        ...,\n",
       "        [0.33333333, 0.39607843, 0.50196078],\n",
       "        [0.40784314, 0.4745098 , 0.58431373],\n",
       "        [0.33333333, 0.4       , 0.50980392]],\n",
       "\n",
       "       [[0.70980392, 0.8627451 , 0.92156863],\n",
       "        [0.70588235, 0.85882353, 0.91764706],\n",
       "        [0.70588235, 0.8627451 , 0.91372549],\n",
       "        ...,\n",
       "        [0.36862745, 0.42745098, 0.54117647],\n",
       "        [0.36078431, 0.43137255, 0.54117647],\n",
       "        [0.30588235, 0.37254902, 0.48235294]],\n",
       "\n",
       "       [[0.70588235, 0.85882353, 0.91764706],\n",
       "        [0.70588235, 0.85882353, 0.91764706],\n",
       "        [0.70588235, 0.85882353, 0.91372549],\n",
       "        ...,\n",
       "        [0.38039216, 0.43921569, 0.55686275],\n",
       "        [0.33333333, 0.4       , 0.51764706],\n",
       "        [0.28627451, 0.35294118, 0.46666667]],\n",
       "\n",
       "       ...,\n",
       "\n",
       "       [[0.43137255, 0.42352941, 0.37647059],\n",
       "        [0.43137255, 0.42352941, 0.37647059],\n",
       "        [0.44705882, 0.43529412, 0.38823529],\n",
       "        ...,\n",
       "        [0.17254902, 0.17254902, 0.16470588],\n",
       "        [0.18039216, 0.18039216, 0.17254902],\n",
       "        [0.23137255, 0.23137255, 0.22352941]],\n",
       "\n",
       "       [[0.44313725, 0.43529412, 0.38431373],\n",
       "        [0.44313725, 0.43529412, 0.38431373],\n",
       "        [0.45490196, 0.44313725, 0.39215686],\n",
       "        ...,\n",
       "        [0.16470588, 0.16470588, 0.15294118],\n",
       "        [0.23921569, 0.23529412, 0.23137255],\n",
       "        [0.46666667, 0.4627451 , 0.45490196]],\n",
       "\n",
       "       [[0.45098039, 0.44313725, 0.39215686],\n",
       "        [0.45098039, 0.44313725, 0.39215686],\n",
       "        [0.45098039, 0.43921569, 0.39215686],\n",
       "        ...,\n",
       "        [0.21176471, 0.21176471, 0.20392157],\n",
       "        [0.41960784, 0.41568627, 0.40784314],\n",
       "        [0.76470588, 0.76078431, 0.75294118]]])"
      ]
     },
     "execution_count": 84,
     "metadata": {},
     "output_type": "execute_result"
    }
   ],
   "source": [
    "image_data[0]"
   ]
  },
  {
   "cell_type": "code",
   "execution_count": null,
   "metadata": {},
   "outputs": [],
   "source": []
  }
 ],
 "metadata": {
  "kernelspec": {
   "display_name": "Deep_Solar_Eye",
   "language": "python",
   "name": "python3"
  },
  "language_info": {
   "codemirror_mode": {
    "name": "ipython",
    "version": 3
   },
   "file_extension": ".py",
   "mimetype": "text/x-python",
   "name": "python",
   "nbconvert_exporter": "python",
   "pygments_lexer": "ipython3",
   "version": "3.10.6"
  }
 },
 "nbformat": 4,
 "nbformat_minor": 2
}
